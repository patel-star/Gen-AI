{
  "nbformat": 4,
  "nbformat_minor": 0,
  "metadata": {
    "colab": {
      "provenance": [],
      "include_colab_link": true
    },
    "kernelspec": {
      "name": "python3",
      "display_name": "Python 3"
    },
    "language_info": {
      "name": "python"
    }
  },
  "cells": [
    {
      "cell_type": "markdown",
      "metadata": {
        "id": "view-in-github",
        "colab_type": "text"
      },
      "source": [
        "<a href=\"https://colab.research.google.com/github/patel-star/Gen-AI/blob/main/NLP_Basics_NLTK.ipynb\" target=\"_parent\"><img src=\"https://colab.research.google.com/assets/colab-badge.svg\" alt=\"Open In Colab\"/></a>"
      ]
    },
    {
      "cell_type": "markdown",
      "source": [],
      "metadata": {
        "id": "q8y8XjzWyiwP"
      }
    },
    {
      "cell_type": "markdown",
      "source": [
        "Corpus -- Document of text / combinations of documents of text"
      ],
      "metadata": {
        "id": "C6hMthaYykOr"
      }
    },
    {
      "cell_type": "code",
      "source": [
        "import nltk\n",
        "nltk.download('brown')"
      ],
      "metadata": {
        "colab": {
          "base_uri": "https://localhost:8080/"
        },
        "id": "jcLf7JXryqyg",
        "outputId": "d146360f-e64e-4741-e7b6-bd568ec9fcfb"
      },
      "execution_count": null,
      "outputs": [
        {
          "output_type": "stream",
          "name": "stderr",
          "text": [
            "[nltk_data] Downloading package brown to /root/nltk_data...\n",
            "[nltk_data]   Unzipping corpora/brown.zip.\n"
          ]
        },
        {
          "output_type": "execute_result",
          "data": {
            "text/plain": [
              "True"
            ]
          },
          "metadata": {},
          "execution_count": 1
        }
      ]
    },
    {
      "cell_type": "code",
      "source": [
        "from nltk.corpus import brown\n",
        "#Words in the brown corpus\n",
        "print(brown.words())\n",
        "len(brown.words())"
      ],
      "metadata": {
        "colab": {
          "base_uri": "https://localhost:8080/"
        },
        "id": "-P8Qie25y2KL",
        "outputId": "1e028c9b-dc9e-4d3b-fec2-6b42eb236c42"
      },
      "execution_count": null,
      "outputs": [
        {
          "output_type": "stream",
          "name": "stdout",
          "text": [
            "['The', 'Fulton', 'County', 'Grand', 'Jury', 'said', ...]\n"
          ]
        },
        {
          "output_type": "execute_result",
          "data": {
            "text/plain": [
              "1161192"
            ]
          },
          "metadata": {},
          "execution_count": 2
        }
      ]
    },
    {
      "cell_type": "code",
      "source": [
        "#Sentences in the brown corpus\n",
        "print(brown.sents())\n",
        "len(brown.sents())"
      ],
      "metadata": {
        "colab": {
          "base_uri": "https://localhost:8080/"
        },
        "id": "DP1ijIv0zRxD",
        "outputId": "96eabf05-1b9c-47ec-cdf2-82026bf8e4ac"
      },
      "execution_count": null,
      "outputs": [
        {
          "output_type": "stream",
          "name": "stdout",
          "text": [
            "[['The', 'Fulton', 'County', 'Grand', 'Jury', 'said', 'Friday', 'an', 'investigation', 'of', \"Atlanta's\", 'recent', 'primary', 'election', 'produced', '``', 'no', 'evidence', \"''\", 'that', 'any', 'irregularities', 'took', 'place', '.'], ['The', 'jury', 'further', 'said', 'in', 'term-end', 'presentments', 'that', 'the', 'City', 'Executive', 'Committee', ',', 'which', 'had', 'over-all', 'charge', 'of', 'the', 'election', ',', '``', 'deserves', 'the', 'praise', 'and', 'thanks', 'of', 'the', 'City', 'of', 'Atlanta', \"''\", 'for', 'the', 'manner', 'in', 'which', 'the', 'election', 'was', 'conducted', '.'], ...]\n"
          ]
        },
        {
          "output_type": "execute_result",
          "data": {
            "text/plain": [
              "57340"
            ]
          },
          "metadata": {},
          "execution_count": 3
        }
      ]
    },
    {
      "cell_type": "code",
      "source": [
        "brown.fileids()\n",
        "brown.sents(fileids='ck21') # Document id = ck21"
      ],
      "metadata": {
        "colab": {
          "base_uri": "https://localhost:8080/"
        },
        "collapsed": true,
        "id": "ITk38NuJ0Cy6",
        "outputId": "6db255e0-477b-4e4d-97fe-cc3ac7caabb2"
      },
      "execution_count": null,
      "outputs": [
        {
          "output_type": "execute_result",
          "data": {
            "text/plain": [
              "[['Beckworth', 'handed', 'the', 'pass', 'to', 'the', 'colonel', '.'], ['He', 'had', 'thought', 'that', 'the', 'suggestion', 'of', 'taking', 'it', 'himself', 'would', 'tip', 'the', 'colonel', 'in', 'the', 'direction', 'of', 'serving', 'his', 'own', 'order', ',', 'but', 'the', 'slip', 'of', 'paper', 'was', 'folded', 'and', 'absently', 'thrust', 'into', 'the', \"colonel's\", 'belt', '.'], ...]"
            ]
          },
          "metadata": {},
          "execution_count": 4
        }
      ]
    },
    {
      "cell_type": "code",
      "source": [
        "print(brown.raw('ck21'))"
      ],
      "metadata": {
        "colab": {
          "base_uri": "https://localhost:8080/"
        },
        "collapsed": true,
        "id": "tj41uEBj0hUG",
        "outputId": "9501a843-2cc0-4f88-fd0f-579bbaea270f"
      },
      "execution_count": null,
      "outputs": [
        {
          "output_type": "stream",
          "name": "stdout",
          "text": [
            "\n",
            "\n",
            "\tBeckworth/np handed/vbd the/at pass/nn to/in the/at colonel/nn ./.\n",
            "He/pps had/hvd thought/vbn that/cs the/at suggestion/nn of/in taking/vbg it/ppo himself/ppl would/md tip/vb the/at colonel/nn in/in the/at direction/nn of/in serving/vbg his/pp$ own/jj order/nn ,/, but/cc the/at slip/nn of/in paper/nn was/bedz folded/vbn and/cc absently/rb thrust/vbn into/in the/at colonel's/nn$ belt/nn ./.\n",
            "Despite/in his/pp$ yearning/nn ,/, the/at colonel/nn would/md not/* go/vb down/rp to/to see/vb the/at men/nns come/vb through/in the/at lines/nns ./.\n",
            "He/pps would/md remain/vb in/in the/at tent/nn ,/, waiting/vbg impatiently/rb ,/, occupied/vbn by/in some/dti trivial/jj task/nn ./.\n",
            "\n",
            "\n",
            "\t--/-- Beckworth/np ./.\n",
            "\n",
            "\n",
            "\t--/-- Sir/nn ?/. ?/.\n",
            "\n",
            "\n",
            "\t--/-- Fetch/vb me/ppo the/at copies/nns of/in everything/pn B/np and/cc C/np companies/nns have/hv requisitioned/vbn in/in the/at last/ap six/cd months/nns ./.\n",
            "\n",
            "\n",
            "\t--/-- The/at last/ap six/cd months/nns ,/, sir/nn ?/. ?/.\n",
            "\n",
            "\n",
            "\t--/-- You/ppss heard/vbd me/ppo ./.\n",
            "There's/ex+bez a/at lot/nn of/in waste/nn going/vbg on/rp here/rb ./.\n",
            "It's/pps+hvz got/vbn to/to stop/vb ./.\n",
            "I/ppss want/vb to/to take/vb a/at look/nn ./.\n",
            "This/dt is/bez no/at damned/vbn holiday/nn ,/, Beckworth/np ./.\n",
            "Get/vb busy/jj ./.\n",
            "\n",
            "\n",
            "\t--/-- Yes/rb ,/, sir/nn ./.\n",
            "\n",
            "\n",
            "\tBeckworth/np left/vbd the/at tent/nn ./.\n",
            "Below/rb he/pps could/md see/vb the/at bright/jj torches/nns lighting/vbg the/at riverbank/nn ./.\n",
            "He/pps glanced/vbd back/rb ./.\n",
            "The/at colonel/nn crouched/vbd tensely/rb on/in one/cd of/in the/at folding/vbg chairs/nns ,/, methodically/rb tearing/vbg at/in his/pp$ thumbnail/nn ./.\n",
            "\n",
            "\n",
            "\n",
            "\n",
            "The/at bombproof/jj was/bedz a/at low-ceilinged/jj structure/nn of/in heavy/jj timbers/nns covered/vbn with/in earth/nn ./.\n",
            "It/pps stood/vbd some/dti fifty/cd paces/nns from/in the/at edge/nn of/in the/at bank/nn ./.\n",
            "From/in the/at outside/nn ,/, it/pps seemed/vbd no/at more/ap than/in a/at low/jj drumlin/nn ,/, a/at lump/nn on/in the/at dark/jj earth/nn ./.\n",
            "A/at crude/jj ladder/nn ran/vbd down/rp to/in a/at wooden/jj floor/nn ./.\n",
            "Two/cd slits/nns enabled/vbd observers/nns to/to watch/vb across/in the/at river/nn ./.\n",
            "The/at place/nn smelled/vbd strongly/rb of/in rank/jj ,/, fertile/jj earth/nn ,/, rotting/vbg wood/nn and/cc urine/nn ./.\n",
            "The/at plank/nn floor/nn was/bedz slimed/vbn beneath/in Watson's/np$ boots/nns ./.\n",
            "At/in least/ap the/at Union/nn-tl officer/nn had/hvd been/ben decent/jj enough/qlp to/to provide/vb a/at candle/nn ./.\n",
            "There/ex was/bedz no/at place/nn to/to sit/vb ,/, but/cc Watson/np walked/vbd slowly/rb from/in the/at ladder/nn to/in the/at window/nn slits/nns and/cc back/nn ,/, stooping/vbg slightly/rb to/to avoid/vb striking/vbg his/pp$ head/nn on/in the/at heavy/jj beams/nns ./.\n",
            "In/in the/at corner/nn was/bedz the/at soldier/nn with/in the/at white/jj flag/nn ./.\n",
            "He/pps stood/vbd stiffly/rb erect/jj ,/, clutching/vbg the/at staff/nn ,/, his/pp$ body/nn half/ql hidden/vbn by/in the/at limp/jj cloth/nn ./.\n",
            "Watson/np hardly/rb looked/vbd at/in him/ppo ./.\n",
            "The/at man/nn had/hvd come/vbn floundering/vbg aboard/rb the/at flat-bottomed/jj barge/nn at/in the/at last/ap instant/nn ,/, brandishing/vbg the/at flag/nn of/in truce/nn ./.\n",
            "Someone/pn had/hvd hauled/vbn him/ppo over/in the/at side/nn ,/, and/cc he/pps had/hvd remained/vbn silent/jj while/cs they/ppss crossed/vbd ./.\n",
            "\n",
            "\n",
            "\tAn/at officer/nn with/in a/at squad/nn of/in men/nns had/hvd been/ben waiting/vbg on/in the/at bank/nn ./.\n",
            "The/at men/nns in/in the/at boats/nns had/hvd started/vbn yelling/vbg happily/rb at/in first/od sight/nn of/in the/at officer/nn ,/, two/cd of/in them/ppo calling/vbg him/ppo Billy/np ./.\n",
            "When/wrb the/at boat/nn had/hvd touched/vbn ,/, the/at weaker/jjr ones/nns and/cc the/at two/cd wounded/vbn men/nns had/hvd been/ben lifted/vbn out/rp and/cc carried/vbn away/rb by/in the/at soldiers/nns ./.\n",
            "Watson/np had/hvd presented/vbn his/pp$ pouch/nn and/cc been/ben led/vbn to/in the/at bombproof/jj ./.\n",
            "The/at officer/nn had/hvd told/vbn him/ppo that/cs both/abx lists/nns must/md be/be checked/vbn ./.\n",
            "Watson/np had/hvd given/vbn his/pp$ name/nn and/cc asked/vbn for/in a/at safe-conduct/nn pass/nn ./.\n",
            "The/at officer/nn ,/, surprised/vbn ,/, said/vbd he/pps would/md have/hv to/to see/vb ./.\n",
            "Watson/np had/hvd nodded/vbn absently/rb and/cc muttered/vbd that/cs he/pps would/md check/vb the/at lists/nns himself/ppl later/rbr ./.\n",
            "He/pps had/hvd peered/vbn through/in the/at darkness/nn at/in the/at rampart/nn ./.\n",
            "The/at men/nns he/pps would/md take/vb back/rb across/in the/at river/nn stood/vbd there/rb ,/, but/cc he/pps turned/vbd away/rb from/in them/ppo ./.\n",
            "He/pps wanted/vbd no/at part/nn of/in the/at emotions/nns of/in the/at exchange/nn ,/, no/at memory/nn of/in the/at joy/nn and/cc gratitude/nn that/wps other/ap men/nns felt/vbd ./.\n",
            "He/pps had/hvd hoped/vbn to/to be/be alone/rb in/in the/at bombproof/jj ,/, but/cc the/at soldier/nn had/hvd followed/vbn him/ppo ./.\n",
            "Though/cs Watson/np carefully/rb ignored/vbd the/at man/nn ,/, he/pps could/md not/* deny/vb his/pp$ presence/nn ./.\n",
            "Perhaps/rb it/pps would/md be/be better/jjr to/to speak/vb to/in him/ppo ,/, since/cs silence/nn could/md not/* exorcise/vb his/pp$ form/nn ./.\n",
            "Watson/np glanced/vbd briefly/rb at/in him/ppo ,/, seeing/vbg only/rb a/at body/nn rigidly/rb erect/jj behind/in the/at languid/jj banner/nn ./.\n",
            "\n",
            "\n",
            "\t--/-- We/ppss won't/md* be/be too/ql long/jj ./.\n",
            "If/cs my/pp$ pass/nn is/bez approved/vbn ,/, I/ppss may/md be/be a/at half/abn hour/nn ./.\n",
            "\n",
            "\n",
            "\tThe/at soldier/nn answered/vbd in/in a/at curious/jj ,/, muffled/vbn voice/nn ,/, his/pp$ lips/nns barely/rb moving/vbg ./.\n",
            "Watson/np turned/vbd away/rb and/cc did/dod not/* see/vb the/at man's/nn$ knees/nns buckle/vb and/cc his/pp$ body/nn sag/vb ./.\n",
            "\n",
            "\n",
            "\t--/-- Yes/rb ,/, sir/nn ./.\n",
            "\n",
            "\n",
            "\tHe/pps had/hvd acknowledged/vbn the/at man/nn ./.\n",
            "It/pps was/bedz easier/jjr to/to think/vb now/rb ,/, Watson/np decided/vbd ./.\n",
            "The/at stiff/jj figure/nn in/in the/at corner/nn no/at longer/jjr blocked/vbd his/pp$ thoughts/nns ./.\n",
            "He/pps paced/vbd slowly/rb ,/, stooping/vbg ,/, staring/vbg at/in the/at damp/jj ,/, slippery/jj floor/nn ./.\n",
            "He/pps tried/vbd to/to order/vb the/at words/nns of/in the/at three/cd Union/nn-tl officers/nns ,/, seeking/vbg to/to create/vb some/dti coherent/jj portrait/nn of/in the/at dead/jj boy/nn ./.\n",
            "But/cc he/pps groped/vbd blindly/rb ./.\n",
            "His/pp$ lack/nn of/in success/nn steadily/rb eroded/vbd his/pp$ interest/nn ./.\n",
            "He/pps stopped/vbd pacing/vbg ,/, leaned/vbd against/in the/at dank/jj ,/, timbered/vbn wall/nn and/cc let/vb his/pp$ mind/nn drift/vb ./.\n",
            "A/at feeling/nn of/in futility/nn ,/, an/at enervation/nn of/in mind/nn greater/jjr than/cs any/dti fatigue/nn he/pps had/hvd ever/rb known/vbn ,/, seeped/vbd through/in him/ppo ./.\n",
            "What/wdt in/in the/at name/nn of/in God/np was/bedz he/pps doing/vbg ,/, crouched/vbn in/in a/at timbered/vbn pit/nn on/in the/at wrong/jj bank/nn of/in the/at river/nn ?/. ?/.\n",
            "Why/wrb had/hvd he/pps crossed/vbd the/at dark/jj water/nn ,/, to/to bring/vb back/rb a/at group/nn of/in reclaimed/vbn soldiers/nns or/cc to/to skulk/vb in/in a/at foul-smelling/jj hole/nn ?/. ?/.\n",
            "\n",
            "\n",
            "\tHe/pps grew/vbd annoyed/vbn and/cc at/in the/at same/ap time/nn surprised/vbn at/in that/dt emotion/nn ./.\n",
            "He/pps was/bedz conscious/jj of/in a/at growing/vbg sense/nn of/in absurdity/nn ./.\n",
            "Hillman/np had/hvd written/vbn it/ppo all/abn out/rp ,/, hadn't/hvd* he/pps ?/. ?/.\n",
            "Wasn't/bedz* the/at report/nn official/jj enough/qlp ?/. ?/.\n",
            "What/wdt did/dod he/pps hope/vb to/to accomplish/vb here/rb ?/. ?/.\n",
            "Hillman/np had/hvd ordered/vbn him/ppo not/* to/to leave/vb the/at far/jj bank/nn ./.\n",
            "Prompted/vbn by/in a/at guilty/jj urge/nn ,/, he/pps had/hvd disobeyed/vbn the/at order/nn of/in a/at man/nn he/pps respected/vbd ./.\n",
            "For/in what/wdt ?/. ?/.\n",
            "To/to tell/vb John/np something/pn he/pps would/md find/vb out/rp for/in himself/ppl ./.\n",
            "\n",
            "\n",
            "\tThe/at figure/nn in/in the/at corner/nn belched/vbd loudly/rb ,/, a/at deep/jj ,/, liquid/nn eruption/nn ./.\n",
            "Watson/np snorted/vbd and/cc then/rb laughed/vbd aloud/rb ./.\n",
            "Exactly/rb !/. !/.\n",
            "\n",
            "\n",
            "\tThe/at soldier's/nn$ voice/nn was/bedz muffled/vbn again/rb ,/, stricken/vbn with/in chagrin/nn ./.\n",
            "He/pps clutched/vbd the/at staff/nn ,/, and/cc his/pp$ dark/jj eyes/nns blinked/vbd apologetically/rb ./.\n",
            "\n",
            "\n",
            "\t--/-- 'scuse/vb me/ppo ,/, sir/nn ./.\n",
            "\n",
            "\n",
            "\t--/-- Let's/vb+ppo get/vb out/in of/in here/rb ./.\n",
            "\n",
            "\n",
            "\tWatson/np ran/vbd up/in the/at ladder/nn and/cc stood/vbd for/in a/at second/od sucking/vbg in/in the/at cool/jj air/nn that/wps smelled/vbd of/in mud/nn and/cc river/nn weeds/nns ./.\n",
            "To/in his/pp$ left/nr ,/, the/at two/cd skiffs/nns dented/vbd their/pp$ sharp/jj bows/nns into/in the/at soft/jj bank/nn ./.\n",
            "The/at flat-bottomed/jj boat/nn swung/vbd slowly/rb to/in the/at pull/nn of/in the/at current/nn ./.\n",
            "A/at soldier/nn held/vbd the/at end/nn of/in a/at frayed/vbn rope/nn ./.\n",
            "\n",
            "\n",
            "\tThree/cd Union/nn-tl guards/nns appeared/vbd ,/, carrying/vbg their/pp$ rifles/nns at/in ready/jj ./.\n",
            "Watson/np stared/vbd at/in them/ppo curiously/rb ./.\n",
            "They/ppss were/bed stocky/jj men/nns ,/, well/rb fed/vbn and/cc clean-shaven/jj ,/, with/in neat/jj uniforms/nns and/cc sturdy/jj boots/nns ./.\n",
            "Behind/in them/ppo shambled/vbn a/at long/jj column/nn of/in weak/jj ,/, tattered/vbn men/nns ./.\n",
            "The/at thin/jj gray/jj figures/nns raised/vbd a/at hoarse/jj ,/, cawing/vbg cry/nn like/cs the/at call/nn of/in a/at bird/nn flock/nn ./.\n",
            "They/ppss moved/vbd toward/in the/at skiffs/nns with/in shocking/jj eagerness/nn ,/, elbowing/vbg and/cc shoving/vbg ./.\n",
            "Four/cd men/nns were/bed knocked/vbn down/rp ,/, but/cc did/dod not/* attempt/vb to/to rise/vb ./.\n",
            "They/ppss crept/vbd down/in the/at muddy/jj slope/nn toward/in the/at waiting/vbg boats/nns ./.\n",
            "The/at Union/nn-tl soldiers/nns grounded/vbd arms/nns and/cc settled/vbd into/in healthy/jj ,/, indifferent/jj postures/nns to/to watch/vb the/at feeble/jj boarding/nn of/in the/at skiffs/nns ./.\n",
            "The/at crawling/vbg men/nns tried/vbd to/to rise/vb and/cc fell/vbd again/rb ./.\n",
            "No/at one/pn moved/vbd to/in them/ppo ./.\n",
            "Watson/np watched/vbd two/cd of/in them/ppo flounder/vb into/in the/at shallow/jj water/nn and/cc listened/vbd to/in their/pp$ voices/nns beg/vb shrilly/rb ./.\n",
            "In/in a/at confused/vbn ,/, soaked/vbn and/cc stumbling/vbg shift/nn of/in bodies/nns and/cc lifting/vbg arms/nns ,/, the/at two/cd men/nns were/bed dragged/vbn into/in the/at same/ap skiff/nn ./.\n",
            "The/at third/od crawling/vbg man/nn forced/vbd himself/ppl erect/jj ./.\n",
            "He/pps swayed/vbd like/cs a/at drunkard/nn ,/, his/pp$ arms/nns milling/vbg in/in slow/jj circles/nns ./.\n",
            "He/pps paced/vbd forward/rb unsteadily/rb ,/, leaning/vbg too/ql far/ql back/rb ,/, his/pp$ head/nn tilted/vbd oddly/rb ./.\n",
            "His/pp$ steps/nns were/bed short/jj and/cc stiff/jj ,/, and/cc ,/, with/in his/pp$ head/nn thrown/vbn back/rb ,/, his/pp$ progress/nn was/bedz a/at supercilious/jj strut/nn ./.\n",
            "He/pps appeared/vbd to/to be/be peering/vbg haughtily/rb down/in his/pp$ nose/nn at/in the/at crowded/vbn and/cc unclean/jj vessel/nn that/dt would/md carry/vb him/ppo to/in freedom/nn ./.\n",
            "He/pps stalked/vbd into/in the/at water/nn and/cc fell/vbd heavily/rb over/in the/at side/nn of/in the/at flat-bottomed/jj barge/nn ,/, his/pp$ weight/nn nearly/rb swamping/vbg the/at craft/nn ./.\n",
            "Watson/np looked/vbd for/in the/at fourth/od man/nn ./.\n",
            "He/pps had/hvd reached/vbn the/at three/cd passive/jj guards/nns ;/. ;/.\n",
            "he/pps crept/vbd in/in an/at incertain/jj manner/nn ,/, patting/vbg the/at ground/nn before/in him/ppo ./.\n",
            "The/at guards/nns did/dod not/* look/vb at/in him/ppo ./.\n",
            "The/at figure/nn on/in the/at earth/nn halted/vbd ,/, seemingly/rb bewildered/vbn ./.\n",
            "He/pps sank/vbd back/rb on/in his/pp$ thin/jj haunches/nns like/cs a/at weary/jj hound/nn ./.\n",
            "Then/rb he/pps began/vbd to/to crawl/vb again/rb ./.\n",
            "Watson/np watched/vbd the/at creeping/vbg figure/nn ./.\n",
            "He/pps felt/vbd a/at spectator/nn interest/nn ./.\n",
            "Would/md the/at man/nn make/vb it/ppo or/cc not/* ?/. ?/.\n",
            "If/cs only/rb there/ex was/bedz a/at clock/nn for/in him/ppo to/to crawl/vb against/in ./.\n",
            "If/cs he/pps failed/vbd to/to reach/vb the/at riverbank/nn in/in five/cd minutes/nns ,/, say/vb ,/, then/rb the/at skiffs/nns would/md pull/vb away/rb and/cc leave/vb him/ppo groping/vbg in/in the/at mud/nn ./.\n",
            "Say/vb three/cd minutes/nns to/to make/vb it/ppo sporting/vbg ./.\n",
            "Still/rb the/at guards/nns did/dod not/* move/vb ,/, but/cc stood/vbd inert/jj ,/, aloof/jj from/in the/at slow-scrambling/jj man/nn ./.\n",
            "The/at figure/nn halted/vbd ,/, and/cc Watson/np gasped/vbd ./.\n",
            "The/at man/nn began/vbd to/to creep/vb in/in the/at wrong/jj direction/nn ,/, deceived/vbn by/in a/at slight/jj rise/nn in/in the/at ground/nn !/. !/.\n",
            "He/pps turned/vbd slowly/rb and/cc began/vbd to/to crawl/vb back/rb up/in the/at bank/nn toward/in the/at rampart/nn ./.\n",
            "Watson/np raced/vbd for/in him/ppo ,/, his/pp$ boots/nns slamming/vbg the/at soft/jj earth/nn ./.\n",
            "\n",
            "\n",
            "\tThe/at guards/nns came/vbd to/in life/nn with/in astonishing/jj menace/nn ./.\n",
            "They/ppss spun/vbd and/cc flung/vbd their/pp$ rifles/nns up/rp ./.\n",
            "Watson/np gesticulated/vbd wildly/rb ./.\n",
            "One/cd man/nn dropped/vbd to/in his/pp$ knee/nn for/in better/jjr aim/nn ./.\n",
            "\n",
            "\n",
            "\t--/-- Let/vb me/ppo help/vb him/ppo ,/, for/in the/at love/nn of/in God/np !/. !/.\n",
            "\n",
            "\n",
            "\tThe/at guards/nns lowered/vbd their/pp$ rifles/nns and/cc their/pp$ rifles/nns and/cc peered/vbd at/in Watson/np with/in sullen/jj ,/, puzzled/vbn faces/nns ./.\n",
            "Watson/np pounded/vbd to/in the/at crawling/vbg man/nn and/cc stopped/vbd ,/, panting/vbg heavily/rb ./.\n",
            "He/pps reached/vbd down/rp and/cc closed/vbd his/pp$ fingers/nns on/in the/at man's/nn$ upper/jj arm/nn ./.\n",
            "Beneath/in his/pp$ clutch/nn ,/, a/at flat/jj strip/nn of/in muscle/nn surged/vbd on/in the/at bone/nn ./.\n",
            "Watson/np bent/vbd awkwardly/rb and/cc lifted/vbd the/at man/nn to/in his/pp$ feet/nns ./.\n",
            "Watson/np stared/vbd into/in a/at cadaverous/jj face/nn ./.\n",
            "Two/cd clotted/vbn balls/nns the/at color/nn of/in mucus/nn rolled/vbd between/in fiery/jj lids/nns ./.\n",
            "Light/jj sticks/nns of/in fingers/nns ,/, the/at tips/nns gummy/jj with/in dark/jj earth/nn ,/, patted/vbd at/in Watson's/np$ throat/nn ./.\n",
            "The/at man's/nn$ voice/nn was/bedz a/at sweet/jj ,/, patient/jj whisper/nn ./.\n",
            "\n",
            "\n",
            "\t--/-- Henry/np said/vbd that/cs he'd/pps+md take/vb my/pp$ arm/nn and/cc get/vb me/ppo right/ql there/rb ./.\n",
            "But/cc you/ppss ain't/ber* Henry/np ./.\n",
            "\n",
            "\n",
            "\t--/-- no/rb ./.\n",
            "\n",
            "\n",
            "\t--/-- It/pps don't/do* matter/vb ./.\n",
            "Is/bez it/pps far/rb ?/. ?/.\n",
            "\n",
            "\n",
            "\tHow/wrb far/rb could/md it/ppo be/be ,/, Watson/np thought/vbd bleakly/rb ,/, how/wrb far/rb can/md a/at blind/jj man/nn crawl/vb ?/. ?/.\n",
            "Another/dt body/nn length/nn or/cc all/abn the/at rest/nn of/in his/pp$ nighted/jj life/nn ?/. ?/.\n",
            "\n",
            "\n",
            "\t--/-- Not/* far/rb ./.\n",
            "\n",
            "\n",
            "\t--/-- You/ppss talk/vb deep/rb ./.\n",
            "Not/* like/cs us/ppo fellas/nns ./.\n",
            "It/pps raises/vbz the/at voice/nn ,/, bein/beg in/in camp/nn ./.\n",
            "You/ppss Secesh/np ?/. ?/.\n",
            "\n",
            "\n",
            "\t--/-- yes/rb ./.\n",
            "Come/vb on/in ,/, now/rb ./.\n",
            "Can/md you/ppss walk/vb ?/. ?/.\n",
            "\n",
            "\n",
            "\t--/-- Why/wrb ,/, course/nn I/ppss can/md ./.\n",
            "I/ppss can/md walk/vb real/ql good/jj ./.\n",
            "\n",
            "\n",
            "\tWatson/np stumbled/vbd down/in the/at bank/nn ./.\n",
            "The/at man/nn leaned/vbd his/pp$ frail/jj body/nn against/in Watson's/np$ shoulder/nn ./.\n",
            "He/pps was/bedz no/at heavier/jjr than/cs a/at child/nn ./.\n",
            "Watson/np paused/vbd for/in breath/nn ./.\n",
            "The/at man/nn wheezed/vbd weakly/rb ,/, his/pp$ fetid/jj breath/nn beating/vbg softly/rb against/in Watson's/np$ neck/nn ./.\n",
            "His/pp$ sweet/jj whisper/nn came/vbd after/in great/jj effort/nn ./.\n",
            "\n",
            "\n",
            "\t--/-- Oh/uh ,/, Christ/uh ./.\n",
            "I/ppss wish/vb you/ppo was/bedz Henry/np ./.\n",
            "He/pps promised/vbd to/to take/vb me/ppo ./.\n",
            "\n",
            "\n",
            "\t--/-- hush/uh ./.\n",
            "We're/ppss+ber almost/rb there/rb ./.\n",
            "\n",
            "\n",
            "\tWatson/np supported/vbd the/at man/nn to/in the/at edge/nn of/in the/at bank/nn and/cc passed/vbd the/at frail/jj figure/nn over/in the/at bow/nn of/in the/at nearest/jjt skiff/nn ./.\n",
            "The/at man/nn swayed/vbd on/in a/at thwart/nn ,/, turning/vbg his/pp$ ruined/vbn eyes/nns from/in side/nn to/in side/nn ./.\n",
            "Watson/np turned/vbd away/rb ,/, sickened/vbn for/in the/at first/od time/nn in/in many/ap months/nns ./.\n",
            "He/pps heard/vbd the/at patient/jj voice/nn calling/vbg ./.\n",
            "\n",
            "\n",
            "\t--/-- Henry/np ?/. ?/.\n",
            "Where/wrb are/ber you/ppss ,/, Henry/np ?/. ?/.\n",
            "\n",
            "\n",
            "\t--/-- Make/vb him/ppo lie/vb down/rp !/. !/.\n",
            "\n",
            "\n",
            "\tWatson/np snatched/vbd a/at deep/jj breath/nn ./.\n",
            "He/pps had/hvd not/* meant/vbn to/to shout/vb ./.\n",
            "He/pps stood/vbd with/in his/pp$ back/nn to/in the/at skiff/nn ./.\n",
            "The/at men/nns mewed/vbd and/cc scratched/vbd ,/, begging/vbg to/to be/be taken/vbn away/rb ./.\n",
            "Watson/np spoke/vbd bewilderedly/rb to/in the/at dark/jj night/nn flecked/vbn with/in pine-knot/nn torches/nns ./.\n",
            "\n",
            "\n",
            "\t--/-- Goddamn/vb you/ppo !/. !/.\n",
            "What/wdt do/do you/ppo do/do to/in them/ppo ?/. ?/.\n",
            "\n",
            "\n",
            "\tIntelligence/nn jabbed/vbd at/in him/ppo accusingly/rb ./.\n",
            "He/pps was/bedz angry/jj ,/, sickened/vbn ./.\n",
            "He/pps had/hvd not/* felt/vbn that/cs during/in the/at afternoon/nn ./.\n",
            "No/rb ,/, nor/cc later/rbr ./.\n",
            "All/abn his/pp$ emotions/nns had/hvd been/ben inward/rb ,/, self-conscious/jj ./.\n",
            "In/in war/nn ,/, on/in a/at night/nn like/cs this/dt ,/, it/pps was/bedz only/rb the/at outward/rb emotions/nns that/wps mattered/vbd ,/, what/wdt could/md be/be flung/vbn out/rp into/in the/at darkness/nn to/to damage/vb others/nns ./.\n",
            "Yes/rb ./.\n",
            "That/dt was/bedz it/pps ./.\n",
            "He/pps was/bedz sure/jj of/in it/ppo ./.\n",
            "\n",
            "\n",
            "\tJohn's/np$ type/nn of/in man/nn allowed/vbd this/dt sort/nn of/in thing/nn to/to happen/vb ./.\n",
            "What/wdt a/at fool/nn he/pps had/hvd been/ben to/to think/vb of/in his/pp$ brother/nn !/. !/.\n",
            "So/rb Charles/np was/bedz dead/jj ./.\n",
            "What/wdt did/dod it/pps matter/vb ?/. ?/.\n",
            "His/pp$ name/nn had/hvd been/ben crossed/vbn off/in a/at list/nn ./.\n",
            "Already/rb his/pp$ cool/jj body/nn lay/vbd in/in the/at ground/nn ./.\n",
            "What/wdt words/nns had/hvd any/dti meaning/nn ?/. ?/.\n",
            "What/wdt had/hvd he/pps thought/vbn of/in ,/, to/to go/vb to/in John/np ,/, grovel/vb and/cc beg/vb understanding/nn ?/. ?/.\n",
            "To/to confess/vb with/in a/at canvas/nn chair/nn as/cs a/at prie-dieu/fw-nn ,/, gouging/vbg at/in his/pp$ heart/nn until/cs a/at rough/jj and/cc stupid/jj hand/nn bade/vbd him/ppo rise/vb and/cc go/vb ?/. ?/.\n",
            "Men/nns were/bed slaughtered/vbn every/at day/nn ,/, tumbled/vbn into/in eternity/nn like/cs so/ql many/ap torn/vbn parcels/nns flung/vbn down/in a/at portable/jj chute/nn ./.\n",
            "What/wdt made/vbd him/ppo think/vb John/np had/hvd a/at right/nn to/to witness/vb his/pp$ brother's/nn$ humiliation/nn ?/. ?/.\n",
            "What/wdt right/nn had/hvd John/np to/in any/dti special/jj consideration/nn ?/. ?/.\n",
            "Was/bedz John/np better/jjr ,/, more/ql deserving/jj ?/. ?/.\n",
            "To/in hell/nn with/in John/np ./.\n",
            "Let/vb him/ppo chafe/vb with/in impatience/nn to/to see/vb Charles/np ,/, rip/vb open/jj the/at note/nn with/in trembling/vbg hands/nns and/cc read/vb the/at formal/jj report/nn in/in Hillman's/np$ beautiful/jj ,/, schoolmaster's/nn$ hand/nn ./.\n",
            "John/np would/md curse/vb ./.\n",
            "He/pps believed/vbd that/cs brave/jj boys/nns didn't/dod* cry/vb ./.\n",
            "\n",
            "\n",
            "\tWatson/np spat/vbd on/in the/at ground/nn ./.\n",
            "He/pps was/bedz grimly/rb satisfied/vbn ./.\n",
            "He/pps had/hvd stupidly/rb thought/vbn himself/ppl compelled/vbn to/in ease/vb his/pp$ brother's/nn$ pain/nn ./.\n",
            "Now/rb he/pps knew/vbd perfectly/rb that/cs he/pps had/hvd but/in longed/vbn to/to increase/vb his/pp$ own/jj suffering/nn ./.\n",
            "\n",
            "\n"
          ]
        }
      ]
    },
    {
      "cell_type": "markdown",
      "source": [
        "Word Tokenization =  Breaking a sentence into words\n",
        "Sentence Tokenization = Breaking a document into sentences"
      ],
      "metadata": {
        "id": "eLOamFFX2P3T"
      }
    },
    {
      "cell_type": "code",
      "source": [
        "nltk.download('punkt_tab')\n",
        "from nltk import sent_tokenize, word_tokenize"
      ],
      "metadata": {
        "colab": {
          "base_uri": "https://localhost:8080/"
        },
        "id": "7v7njo942VRQ",
        "outputId": "1a80c68a-ecd6-459f-8f2e-55e0906ae424"
      },
      "execution_count": null,
      "outputs": [
        {
          "output_type": "stream",
          "name": "stderr",
          "text": [
            "[nltk_data] Downloading package punkt_tab to /root/nltk_data...\n",
            "[nltk_data]   Unzipping tokenizers/punkt_tab.zip.\n"
          ]
        }
      ]
    },
    {
      "cell_type": "code",
      "source": [
        "sent_tokenize(\"I am playing cricket today. The weather seems to be great for playing outdoors.\")"
      ],
      "metadata": {
        "colab": {
          "base_uri": "https://localhost:8080/"
        },
        "id": "RlH-_Bvv2euH",
        "outputId": "7edb22d0-b585-45bb-febd-5f9c8a2e1141"
      },
      "execution_count": null,
      "outputs": [
        {
          "output_type": "execute_result",
          "data": {
            "text/plain": [
              "['I am playing cricket today.',\n",
              " 'The weather seems to be great for playing outdoors.']"
            ]
          },
          "metadata": {},
          "execution_count": 7
        }
      ]
    },
    {
      "cell_type": "code",
      "source": [
        "word_list = word_tokenize(\"I am playing cricket today. The weather seems to be great for playing outdoors.\")"
      ],
      "metadata": {
        "collapsed": true,
        "id": "HCNbGZ6f20aj"
      },
      "execution_count": null,
      "outputs": []
    },
    {
      "cell_type": "code",
      "source": [
        "nltk.download('stopwords')\n",
        "from nltk.corpus import stopwords\n",
        "st_words = stopwords.words('english')"
      ],
      "metadata": {
        "colab": {
          "base_uri": "https://localhost:8080/"
        },
        "collapsed": true,
        "id": "s90zOxr722iJ",
        "outputId": "02c13aaf-021a-4318-ec07-789c1ae9d849"
      },
      "execution_count": null,
      "outputs": [
        {
          "output_type": "stream",
          "name": "stderr",
          "text": [
            "[nltk_data] Downloading package stopwords to /root/nltk_data...\n",
            "[nltk_data]   Unzipping corpora/stopwords.zip.\n"
          ]
        }
      ]
    },
    {
      "cell_type": "code",
      "source": [
        "cleaned_words = [word for word in word_list if word not in st_words]\n",
        "cleaned_words"
      ],
      "metadata": {
        "colab": {
          "base_uri": "https://localhost:8080/"
        },
        "id": "SfKybuzb3MuG",
        "outputId": "757ce97e-50f7-407f-b6b6-5f00ce5448c9"
      },
      "execution_count": null,
      "outputs": [
        {
          "output_type": "execute_result",
          "data": {
            "text/plain": [
              "['I',\n",
              " 'playing',\n",
              " 'cricket',\n",
              " 'today',\n",
              " '.',\n",
              " 'The',\n",
              " 'weather',\n",
              " 'seems',\n",
              " 'great',\n",
              " 'playing',\n",
              " 'outdoors',\n",
              " '.']"
            ]
          },
          "metadata": {},
          "execution_count": 10
        }
      ]
    },
    {
      "cell_type": "code",
      "source": [
        "from string import punctuation\n",
        "cleaned_words = [word for word in cleaned_words if word not in punctuation]\n",
        "cleaned_words"
      ],
      "metadata": {
        "colab": {
          "base_uri": "https://localhost:8080/"
        },
        "id": "jyNGn4fq3zJ4",
        "outputId": "a6fa1a92-ca22-491d-99ba-ea03afb9b2ae"
      },
      "execution_count": null,
      "outputs": [
        {
          "output_type": "execute_result",
          "data": {
            "text/plain": [
              "['I',\n",
              " 'playing',\n",
              " 'cricket',\n",
              " 'today',\n",
              " 'The',\n",
              " 'weather',\n",
              " 'seems',\n",
              " 'great',\n",
              " 'playing',\n",
              " 'outdoors']"
            ]
          },
          "metadata": {},
          "execution_count": 11
        }
      ]
    },
    {
      "cell_type": "markdown",
      "source": [
        "Lemmatization and Stemming - Handwritten rules\n",
        "\n",
        "*   Stemming - Uses Basic regex to remove the extra parts of the word (Porter Stemmer)\n",
        "*   Lemmatization - Uses linguistic rules to remove extra parts of the word (WordNet Lemmatizer)"
      ],
      "metadata": {
        "id": "3WkkFl3l4zj5"
      }
    },
    {
      "cell_type": "code",
      "source": [
        "from nltk.stem import PorterStemmer, LancasterStemmer, SnowballStemmer\n",
        "\n",
        "porter_stemmer = PorterStemmer()\n",
        "\n",
        "print(porter_stemmer.stem('catching'))\n",
        "print(porter_stemmer.stem('catch'))\n",
        "print(porter_stemmer.stem('caught'))"
      ],
      "metadata": {
        "colab": {
          "base_uri": "https://localhost:8080/"
        },
        "id": "HpuB7FMy429C",
        "outputId": "ef130d43-d02b-4331-ca48-2d9e526dcbf0"
      },
      "execution_count": null,
      "outputs": [
        {
          "output_type": "stream",
          "name": "stdout",
          "text": [
            "catch\n",
            "catch\n",
            "caught\n"
          ]
        }
      ]
    },
    {
      "cell_type": "code",
      "source": [
        "from nltk.stem import WordNetLemmatizer\n",
        "nltk.download('wordnet')\n",
        "lemmatizer = WordNetLemmatizer()\n",
        "\n",
        "print(lemmatizer.lemmatize('catching'))\n",
        "print(lemmatizer.lemmatize('catch'))\n",
        "print(lemmatizer.lemmatize('caught'))"
      ],
      "metadata": {
        "colab": {
          "base_uri": "https://localhost:8080/"
        },
        "id": "G1iRjvR95pjS",
        "outputId": "9578f7eb-35d0-4940-db99-ab0e0d19bf71"
      },
      "execution_count": null,
      "outputs": [
        {
          "output_type": "stream",
          "name": "stderr",
          "text": [
            "[nltk_data] Downloading package wordnet to /root/nltk_data...\n"
          ]
        },
        {
          "output_type": "stream",
          "name": "stdout",
          "text": [
            "catching\n",
            "catch\n",
            "caught\n"
          ]
        }
      ]
    },
    {
      "cell_type": "code",
      "source": [
        "from nltk import pos_tag\n",
        "nltk.download('averaged_perceptron_tagger_eng')\n",
        "\n",
        "tagged_sentence = pos_tag(cleaned_words)\n",
        "tagged_sentence"
      ],
      "metadata": {
        "colab": {
          "base_uri": "https://localhost:8080/"
        },
        "id": "SgtUHq9u6cfC",
        "outputId": "416c0946-3ba6-4346-f339-2676e5541c1a"
      },
      "execution_count": null,
      "outputs": [
        {
          "output_type": "stream",
          "name": "stderr",
          "text": [
            "[nltk_data] Downloading package averaged_perceptron_tagger_eng to\n",
            "[nltk_data]     /root/nltk_data...\n",
            "[nltk_data]   Unzipping taggers/averaged_perceptron_tagger_eng.zip.\n"
          ]
        },
        {
          "output_type": "execute_result",
          "data": {
            "text/plain": [
              "[('I', 'PRP'),\n",
              " ('playing', 'VBG'),\n",
              " ('cricket', 'NN'),\n",
              " ('today', 'NN'),\n",
              " ('The', 'DT'),\n",
              " ('weather', 'NN'),\n",
              " ('seems', 'VBZ'),\n",
              " ('great', 'JJ'),\n",
              " ('playing', 'NN'),\n",
              " ('outdoors', 'NNS')]"
            ]
          },
          "metadata": {},
          "execution_count": 14
        }
      ]
    },
    {
      "cell_type": "code",
      "source": [
        "def penn_to_morphy(tag):\n",
        "  if tag.startswith('J'):\n",
        "    return 'a'\n",
        "  elif tag.startswith('V'):\n",
        "    return 'v'\n",
        "  elif tag.startswith('N'):\n",
        "    return 'n'\n",
        "  elif tag.startswith('R'):\n",
        "    return 'r'\n",
        "  else:\n",
        "    return 'n'"
      ],
      "metadata": {
        "id": "tb93iqkN7Fsi"
      },
      "execution_count": null,
      "outputs": []
    },
    {
      "cell_type": "code",
      "source": [
        "lemmatizer = WordNetLemmatizer()\n",
        "\n",
        "print(lemmatizer.lemmatize('catching', 'v'))\n",
        "print(lemmatizer.lemmatize('catch', 'v'))\n",
        "print(lemmatizer.lemmatize('caught', 'v'))\n",
        "print(lemmatizer.lemmatize('Rahul', 'n'))"
      ],
      "metadata": {
        "colab": {
          "base_uri": "https://localhost:8080/"
        },
        "id": "srlirDQm8RcB",
        "outputId": "39f8c552-10ad-4135-c5b7-f724a8ca37ed"
      },
      "execution_count": null,
      "outputs": [
        {
          "output_type": "stream",
          "name": "stdout",
          "text": [
            "catch\n",
            "catch\n",
            "catch\n",
            "Rahul\n"
          ]
        }
      ]
    },
    {
      "cell_type": "code",
      "source": [
        "from collections import Counter\n",
        "\n",
        "sentence = 'I am playing cricket because I love playing all games anyway .'\n",
        "Counter(sentence.split())"
      ],
      "metadata": {
        "colab": {
          "base_uri": "https://localhost:8080/"
        },
        "id": "6Crt5WCi9Q3C",
        "outputId": "4912c5d1-d4f8-4417-a42f-71646183a5fb"
      },
      "execution_count": null,
      "outputs": [
        {
          "output_type": "execute_result",
          "data": {
            "text/plain": [
              "Counter({'I': 2,\n",
              "         'am': 1,\n",
              "         'playing': 2,\n",
              "         'cricket': 1,\n",
              "         'because': 1,\n",
              "         'love': 1,\n",
              "         'all': 1,\n",
              "         'games': 1,\n",
              "         'anyway': 1,\n",
              "         '.': 1})"
            ]
          },
          "metadata": {},
          "execution_count": 17
        }
      ]
    },
    {
      "cell_type": "markdown",
      "source": [
        "Similarity Measures\n",
        "1.   Cosine Similarity\n",
        "2.   Manhattan Distance\n",
        "3.   Euclidean Distance\n",
        "\n"
      ],
      "metadata": {
        "id": "nSI4e4Q_-kPb"
      }
    },
    {
      "cell_type": "code",
      "source": [
        "def pre_process(str):\n",
        "  #Tokenize the document\n",
        "  word_list = word_tokenize(str)\n",
        "  #print(word_list)\n",
        "  #Remove the stop words and convert to lower case\n",
        "  st_words = stopwords.words('english')\n",
        "  cleaned_words = [word.lower() for word in word_list if word not in st_words]\n",
        "  #print(cleaned_words)\n",
        "  #Remove the punctuations\n",
        "  cleaned_words = [word for word in cleaned_words if word not in punctuation]\n",
        "  #print(cleaned_words)\n",
        "  #Add Pos Tagging\n",
        "  tagged_sentence = pos_tag(cleaned_words)\n",
        "  #print(\"POS TAGGED WORDS ---- \")\n",
        "  #print(tagged_sentence)\n",
        "  #Lemmatize the sentence\n",
        "  cleaned_words = [lemmatizer.lemmatize(word[0], penn_to_morphy(word[1])) for word in tagged_sentence]\n",
        "  #print(\"LEMMATIZED WORDS ---- \")\n",
        "  #print(cleaned_words)\n",
        "  #Create the document vector\n",
        "  #print(Counter(cleaned_words))\n",
        "  vector = Counter(cleaned_words);\n",
        "  return vector"
      ],
      "metadata": {
        "id": "_9eL7p5D-1nA"
      },
      "execution_count": null,
      "outputs": []
    },
    {
      "cell_type": "code",
      "source": [
        "print(pre_process('I am playing cricket because I love playing all games anyway. Cricket has been played by many generations in our family'))"
      ],
      "metadata": {
        "colab": {
          "base_uri": "https://localhost:8080/"
        },
        "id": "ffwbBwgF1n_n",
        "outputId": "1b05b70d-32a4-4531-a89d-72ff19bb9d9e"
      },
      "execution_count": null,
      "outputs": [
        {
          "output_type": "stream",
          "name": "stdout",
          "text": [
            "Counter({'play': 3, 'i': 2, 'cricket': 2, 'love': 1, 'game': 1, 'anyway': 1, 'many': 1, 'generation': 1, 'family': 1})\n"
          ]
        }
      ]
    },
    {
      "cell_type": "markdown",
      "source": [
        "COUNT VECTORIZER"
      ],
      "metadata": {
        "id": "m2mq6XyW5pZy"
      }
    },
    {
      "cell_type": "code",
      "source": [
        "from io import StringIO\n",
        "from sklearn.feature_extraction.text import CountVectorizer\n",
        "\n",
        "sent1 = \"I am playing cricket because I love playing all games anyway.\"\n",
        "sent2 = \"Cricket has been played by many generations in our family.\"\n",
        "with StringIO('\\n'.join([sent1, sent2])) as fin:\n",
        "\n",
        "    # Override the analyzer totally with our preprocess text\n",
        "    count_vect = CountVectorizer(analyzer=pre_process)\n",
        "    count_vect.fit_transform(fin)\n",
        "count_vect.vocabulary_"
      ],
      "metadata": {
        "colab": {
          "base_uri": "https://localhost:8080/"
        },
        "id": "n3JJEp5TyL98",
        "outputId": "ce66a1f3-688e-46fa-a44b-204bad76732f"
      },
      "execution_count": null,
      "outputs": [
        {
          "output_type": "execute_result",
          "data": {
            "text/plain": [
              "{'i': 5,\n",
              " 'play': 8,\n",
              " 'cricket': 1,\n",
              " 'love': 6,\n",
              " 'game': 3,\n",
              " 'anyway': 0,\n",
              " 'many': 7,\n",
              " 'generation': 4,\n",
              " 'family': 2}"
            ]
          },
          "metadata": {},
          "execution_count": 29
        }
      ]
    },
    {
      "cell_type": "code",
      "source": [
        "from operator import itemgetter\n",
        "\n",
        "# Print the words sorted by their index\n",
        "words_sorted_by_index, _ = zip(*sorted(count_vect.vocabulary_.items(), key=itemgetter(1)))\n",
        "\n",
        "print(pre_process(sent1))\n",
        "print(pre_process(sent2))\n",
        "print()\n",
        "print('Vocab:', words_sorted_by_index)\n",
        "print()\n",
        "print('Matrix/Vectors:\\n', count_vect.transform([sent1, sent2]).toarray())"
      ],
      "metadata": {
        "colab": {
          "base_uri": "https://localhost:8080/"
        },
        "id": "XBW6a5ezyuS_",
        "outputId": "99c20ff5-0f36-454b-affa-7f82f445069e"
      },
      "execution_count": null,
      "outputs": [
        {
          "output_type": "stream",
          "name": "stdout",
          "text": [
            "Counter({'i': 2, 'play': 2, 'cricket': 1, 'love': 1, 'game': 1, 'anyway': 1})\n",
            "Counter({'cricket': 1, 'play': 1, 'many': 1, 'generation': 1, 'family': 1})\n",
            "\n",
            "Vocab: ('anyway', 'cricket', 'family', 'game', 'generation', 'i', 'love', 'many', 'play')\n",
            "\n",
            "Matrix/Vectors:\n",
            " [[1 1 0 1 0 1 1 0 1]\n",
            " [0 1 1 0 1 0 0 1 1]]\n"
          ]
        }
      ]
    },
    {
      "cell_type": "markdown",
      "source": [
        "# TF-IDF VECTORIZER\n",
        "\n",
        "*   Look across documents for frequent words\n",
        "*   If a word is present across documents, that word's importance is decreased.\n",
        "*   If a word is present many times in one particular document, the word's importance is increased."
      ],
      "metadata": {
        "id": "ZaCoO8ak1-Yv"
      }
    },
    {
      "cell_type": "markdown",
      "source": [
        "Term Frequency TF(W , D) = # of time the word W is present in the document D."
      ],
      "metadata": {
        "id": "EL3sfdkL2leb"
      }
    },
    {
      "cell_type": "markdown",
      "source": [
        "Inverse Document Frequency IDF(W) = log(N / (Dw+1) )"
      ],
      "metadata": {
        "id": "CJRzh1da2w9_"
      }
    },
    {
      "cell_type": "code",
      "source": [
        "doc1 = 'document one is first document'\n",
        "doc2= 'document two is second document'\n",
        "doc3 = 'document three is third document'\n",
        "bag_a = doc1.split(' ')\n",
        "bag_b = doc2.split(' ')\n",
        "bag_c = doc3.split(' ')\n",
        "vocab = set(bag_a).union(set(bag_b)).union(set(bag_c))\n",
        "vocab"
      ],
      "metadata": {
        "colab": {
          "base_uri": "https://localhost:8080/"
        },
        "id": "74vWWmSW35P_",
        "outputId": "f6b33b5c-7956-4320-e229-3e835e95a458"
      },
      "execution_count": null,
      "outputs": [
        {
          "output_type": "execute_result",
          "data": {
            "text/plain": [
              "{'document', 'first', 'is', 'one', 'second', 'third', 'three', 'two'}"
            ]
          },
          "metadata": {},
          "execution_count": 31
        }
      ]
    },
    {
      "cell_type": "code",
      "source": [
        "count_a = dict.fromkeys(vocab, 0)\n",
        "count_b = dict.fromkeys(vocab, 0)\n",
        "count_c = dict.fromkeys(vocab, 0)\n",
        "for word in bag_a:\n",
        "  count_a[word] += 1\n",
        "for word in bag_b:\n",
        "  count_b[word] += 1\n",
        "for word in bag_c:\n",
        "  count_c[word] += 1\n",
        "print(count_a)\n",
        "print(count_b)\n",
        "print(count_c)"
      ],
      "metadata": {
        "colab": {
          "base_uri": "https://localhost:8080/"
        },
        "id": "tICTstaQ59L5",
        "outputId": "9fb8c8b2-a358-4cc0-c7c9-78b5367084c0"
      },
      "execution_count": null,
      "outputs": [
        {
          "output_type": "stream",
          "name": "stdout",
          "text": [
            "{'second': 0, 'first': 1, 'three': 0, 'is': 1, 'third': 0, 'document': 2, 'one': 1, 'two': 0}\n",
            "{'second': 1, 'first': 0, 'three': 0, 'is': 1, 'third': 0, 'document': 2, 'one': 0, 'two': 1}\n",
            "{'second': 0, 'first': 0, 'three': 1, 'is': 1, 'third': 1, 'document': 2, 'one': 0, 'two': 0}\n"
          ]
        }
      ]
    },
    {
      "cell_type": "code",
      "source": [
        "def term_frequency(word_dict, bag):\n",
        "  tf = {}\n",
        "  bag_count = len(bag)\n",
        "  #print(bag_count)\n",
        "  for word, count in word_dict.items():\n",
        "    tf[word] = count / float(bag_count)\n",
        "    #print(word, tf[word])\n",
        "  return tf"
      ],
      "metadata": {
        "id": "SltLP5e-2wDY"
      },
      "execution_count": null,
      "outputs": []
    },
    {
      "cell_type": "code",
      "source": [
        "term_frequency(count_a, bag_a)"
      ],
      "metadata": {
        "colab": {
          "base_uri": "https://localhost:8080/"
        },
        "id": "DtbvfN5A7jT6",
        "outputId": "a5a8e419-4644-4a89-c127-fef615e549d4"
      },
      "execution_count": null,
      "outputs": [
        {
          "output_type": "execute_result",
          "data": {
            "text/plain": [
              "{'second': 0.0,\n",
              " 'first': 0.2,\n",
              " 'three': 0.0,\n",
              " 'is': 0.2,\n",
              " 'third': 0.0,\n",
              " 'document': 0.4,\n",
              " 'one': 0.2,\n",
              " 'two': 0.0}"
            ]
          },
          "metadata": {},
          "execution_count": 40
        }
      ]
    },
    {
      "cell_type": "code",
      "source": [
        "import math\n",
        "def inverse_document_frequency(bag_list):\n",
        "  idf = {}\n",
        "  vocab = set(bag_list[0]).union(bag_list[1]).union(bag_list[2])\n",
        "  N = len(bag_list)\n",
        "  print(bag_list)\n",
        "  for word, value in idf.items():\n",
        "      idf[word] = math.log(N / (float(value) + 1))\n",
        "\n",
        "  return idf"
      ],
      "metadata": {
        "id": "NTYyMwsl72pe"
      },
      "execution_count": null,
      "outputs": []
    },
    {
      "cell_type": "code",
      "source": [
        "inverse_document_freq = inverse_document_frequency([doc1, doc2, doc3])"
      ],
      "metadata": {
        "colab": {
          "base_uri": "https://localhost:8080/"
        },
        "id": "htGbgrL29Sh1",
        "outputId": "d985009d-f6c5-4302-e239-3f1d42755aa6"
      },
      "execution_count": null,
      "outputs": [
        {
          "output_type": "stream",
          "name": "stdout",
          "text": [
            "['document one is first document', 'document two is second document', 'document three is third document']\n"
          ]
        }
      ]
    },
    {
      "cell_type": "code",
      "source": [],
      "metadata": {
        "colab": {
          "base_uri": "https://localhost:8080/"
        },
        "id": "9NpU-Yg59hj-",
        "outputId": "9d08a99e-3d21-4988-ed22-d7fa69cda053"
      },
      "execution_count": null,
      "outputs": [
        {
          "output_type": "execute_result",
          "data": {
            "text/plain": [
              "{'document': 1.0986122886681098,\n",
              " 'three': 1.0986122886681098,\n",
              " 'is': 1.0986122886681098,\n",
              " 'third': 1.0986122886681098}"
            ]
          },
          "metadata": {},
          "execution_count": 50
        }
      ]
    },
    {
      "cell_type": "markdown",
      "source": [
        "TF - IDF depends upon a word as well as a document pair."
      ],
      "metadata": {
        "id": "F_zEdOTyAGRU"
      }
    },
    {
      "cell_type": "code",
      "source": [
        "from sklearn.feature_extraction.text import TfidfVectorizer\n",
        "import pandas as pd\n",
        "\n",
        "sent1 = \"I am playing cricket because I love playing all games anyway.\"\n",
        "sent2 = \"Cricket has been played by many generations in our family.\"\n",
        "\n",
        "tfidf_vect = TfidfVectorizer(analyzer=pre_process)\n",
        "tfidf_vect.fit([sent1, sent2])\n",
        "\n",
        "tf_idf_vectorized = tfidf_vect.transform([sent1, sent2])\n",
        "#print(tf_idf_vectorized.toarray())\n",
        "\n",
        "df = pd.DataFrame(tf_idf_vectorized[0].T.todense(), index = tfidf_vect.get_feature_names_out() , columns = ['TF-IDF'])\n",
        "df.sort_values(by=['TF-IDF'], ascending=False)\n",
        "df\n",
        "\n",
        "\n",
        "df = pd.DataFrame(tf_idf_vectorized[1].T.todense(), index = tfidf_vect.get_feature_names_out() , columns = ['TF-IDF'])\n",
        "df.sort_values(by=['TF-IDF'], ascending=False)\n",
        "df"
      ],
      "metadata": {
        "colab": {
          "base_uri": "https://localhost:8080/",
          "height": 331
        },
        "id": "D-8H0D2NAKSU",
        "outputId": "0505610a-47d9-48ca-dd49-d6a379dc2345"
      },
      "execution_count": null,
      "outputs": [
        {
          "output_type": "execute_result",
          "data": {
            "text/plain": [
              "              TF-IDF\n",
              "anyway      0.000000\n",
              "cricket     0.355200\n",
              "family      0.499221\n",
              "game        0.000000\n",
              "generation  0.499221\n",
              "i           0.000000\n",
              "love        0.000000\n",
              "many        0.499221\n",
              "play        0.355200"
            ],
            "text/html": [
              "\n",
              "  <div id=\"df-c1d341ff-aac5-4994-ac0c-f47a907f685b\" class=\"colab-df-container\">\n",
              "    <div>\n",
              "<style scoped>\n",
              "    .dataframe tbody tr th:only-of-type {\n",
              "        vertical-align: middle;\n",
              "    }\n",
              "\n",
              "    .dataframe tbody tr th {\n",
              "        vertical-align: top;\n",
              "    }\n",
              "\n",
              "    .dataframe thead th {\n",
              "        text-align: right;\n",
              "    }\n",
              "</style>\n",
              "<table border=\"1\" class=\"dataframe\">\n",
              "  <thead>\n",
              "    <tr style=\"text-align: right;\">\n",
              "      <th></th>\n",
              "      <th>TF-IDF</th>\n",
              "    </tr>\n",
              "  </thead>\n",
              "  <tbody>\n",
              "    <tr>\n",
              "      <th>anyway</th>\n",
              "      <td>0.000000</td>\n",
              "    </tr>\n",
              "    <tr>\n",
              "      <th>cricket</th>\n",
              "      <td>0.355200</td>\n",
              "    </tr>\n",
              "    <tr>\n",
              "      <th>family</th>\n",
              "      <td>0.499221</td>\n",
              "    </tr>\n",
              "    <tr>\n",
              "      <th>game</th>\n",
              "      <td>0.000000</td>\n",
              "    </tr>\n",
              "    <tr>\n",
              "      <th>generation</th>\n",
              "      <td>0.499221</td>\n",
              "    </tr>\n",
              "    <tr>\n",
              "      <th>i</th>\n",
              "      <td>0.000000</td>\n",
              "    </tr>\n",
              "    <tr>\n",
              "      <th>love</th>\n",
              "      <td>0.000000</td>\n",
              "    </tr>\n",
              "    <tr>\n",
              "      <th>many</th>\n",
              "      <td>0.499221</td>\n",
              "    </tr>\n",
              "    <tr>\n",
              "      <th>play</th>\n",
              "      <td>0.355200</td>\n",
              "    </tr>\n",
              "  </tbody>\n",
              "</table>\n",
              "</div>\n",
              "    <div class=\"colab-df-buttons\">\n",
              "\n",
              "  <div class=\"colab-df-container\">\n",
              "    <button class=\"colab-df-convert\" onclick=\"convertToInteractive('df-c1d341ff-aac5-4994-ac0c-f47a907f685b')\"\n",
              "            title=\"Convert this dataframe to an interactive table.\"\n",
              "            style=\"display:none;\">\n",
              "\n",
              "  <svg xmlns=\"http://www.w3.org/2000/svg\" height=\"24px\" viewBox=\"0 -960 960 960\">\n",
              "    <path d=\"M120-120v-720h720v720H120Zm60-500h600v-160H180v160Zm220 220h160v-160H400v160Zm0 220h160v-160H400v160ZM180-400h160v-160H180v160Zm440 0h160v-160H620v160ZM180-180h160v-160H180v160Zm440 0h160v-160H620v160Z\"/>\n",
              "  </svg>\n",
              "    </button>\n",
              "\n",
              "  <style>\n",
              "    .colab-df-container {\n",
              "      display:flex;\n",
              "      gap: 12px;\n",
              "    }\n",
              "\n",
              "    .colab-df-convert {\n",
              "      background-color: #E8F0FE;\n",
              "      border: none;\n",
              "      border-radius: 50%;\n",
              "      cursor: pointer;\n",
              "      display: none;\n",
              "      fill: #1967D2;\n",
              "      height: 32px;\n",
              "      padding: 0 0 0 0;\n",
              "      width: 32px;\n",
              "    }\n",
              "\n",
              "    .colab-df-convert:hover {\n",
              "      background-color: #E2EBFA;\n",
              "      box-shadow: 0px 1px 2px rgba(60, 64, 67, 0.3), 0px 1px 3px 1px rgba(60, 64, 67, 0.15);\n",
              "      fill: #174EA6;\n",
              "    }\n",
              "\n",
              "    .colab-df-buttons div {\n",
              "      margin-bottom: 4px;\n",
              "    }\n",
              "\n",
              "    [theme=dark] .colab-df-convert {\n",
              "      background-color: #3B4455;\n",
              "      fill: #D2E3FC;\n",
              "    }\n",
              "\n",
              "    [theme=dark] .colab-df-convert:hover {\n",
              "      background-color: #434B5C;\n",
              "      box-shadow: 0px 1px 3px 1px rgba(0, 0, 0, 0.15);\n",
              "      filter: drop-shadow(0px 1px 2px rgba(0, 0, 0, 0.3));\n",
              "      fill: #FFFFFF;\n",
              "    }\n",
              "  </style>\n",
              "\n",
              "    <script>\n",
              "      const buttonEl =\n",
              "        document.querySelector('#df-c1d341ff-aac5-4994-ac0c-f47a907f685b button.colab-df-convert');\n",
              "      buttonEl.style.display =\n",
              "        google.colab.kernel.accessAllowed ? 'block' : 'none';\n",
              "\n",
              "      async function convertToInteractive(key) {\n",
              "        const element = document.querySelector('#df-c1d341ff-aac5-4994-ac0c-f47a907f685b');\n",
              "        const dataTable =\n",
              "          await google.colab.kernel.invokeFunction('convertToInteractive',\n",
              "                                                    [key], {});\n",
              "        if (!dataTable) return;\n",
              "\n",
              "        const docLinkHtml = 'Like what you see? Visit the ' +\n",
              "          '<a target=\"_blank\" href=https://colab.research.google.com/notebooks/data_table.ipynb>data table notebook</a>'\n",
              "          + ' to learn more about interactive tables.';\n",
              "        element.innerHTML = '';\n",
              "        dataTable['output_type'] = 'display_data';\n",
              "        await google.colab.output.renderOutput(dataTable, element);\n",
              "        const docLink = document.createElement('div');\n",
              "        docLink.innerHTML = docLinkHtml;\n",
              "        element.appendChild(docLink);\n",
              "      }\n",
              "    </script>\n",
              "  </div>\n",
              "\n",
              "\n",
              "    <div id=\"df-fbc43f66-31b8-4817-aeb3-581469ec4c11\">\n",
              "      <button class=\"colab-df-quickchart\" onclick=\"quickchart('df-fbc43f66-31b8-4817-aeb3-581469ec4c11')\"\n",
              "                title=\"Suggest charts\"\n",
              "                style=\"display:none;\">\n",
              "\n",
              "<svg xmlns=\"http://www.w3.org/2000/svg\" height=\"24px\"viewBox=\"0 0 24 24\"\n",
              "     width=\"24px\">\n",
              "    <g>\n",
              "        <path d=\"M19 3H5c-1.1 0-2 .9-2 2v14c0 1.1.9 2 2 2h14c1.1 0 2-.9 2-2V5c0-1.1-.9-2-2-2zM9 17H7v-7h2v7zm4 0h-2V7h2v10zm4 0h-2v-4h2v4z\"/>\n",
              "    </g>\n",
              "</svg>\n",
              "      </button>\n",
              "\n",
              "<style>\n",
              "  .colab-df-quickchart {\n",
              "      --bg-color: #E8F0FE;\n",
              "      --fill-color: #1967D2;\n",
              "      --hover-bg-color: #E2EBFA;\n",
              "      --hover-fill-color: #174EA6;\n",
              "      --disabled-fill-color: #AAA;\n",
              "      --disabled-bg-color: #DDD;\n",
              "  }\n",
              "\n",
              "  [theme=dark] .colab-df-quickchart {\n",
              "      --bg-color: #3B4455;\n",
              "      --fill-color: #D2E3FC;\n",
              "      --hover-bg-color: #434B5C;\n",
              "      --hover-fill-color: #FFFFFF;\n",
              "      --disabled-bg-color: #3B4455;\n",
              "      --disabled-fill-color: #666;\n",
              "  }\n",
              "\n",
              "  .colab-df-quickchart {\n",
              "    background-color: var(--bg-color);\n",
              "    border: none;\n",
              "    border-radius: 50%;\n",
              "    cursor: pointer;\n",
              "    display: none;\n",
              "    fill: var(--fill-color);\n",
              "    height: 32px;\n",
              "    padding: 0;\n",
              "    width: 32px;\n",
              "  }\n",
              "\n",
              "  .colab-df-quickchart:hover {\n",
              "    background-color: var(--hover-bg-color);\n",
              "    box-shadow: 0 1px 2px rgba(60, 64, 67, 0.3), 0 1px 3px 1px rgba(60, 64, 67, 0.15);\n",
              "    fill: var(--button-hover-fill-color);\n",
              "  }\n",
              "\n",
              "  .colab-df-quickchart-complete:disabled,\n",
              "  .colab-df-quickchart-complete:disabled:hover {\n",
              "    background-color: var(--disabled-bg-color);\n",
              "    fill: var(--disabled-fill-color);\n",
              "    box-shadow: none;\n",
              "  }\n",
              "\n",
              "  .colab-df-spinner {\n",
              "    border: 2px solid var(--fill-color);\n",
              "    border-color: transparent;\n",
              "    border-bottom-color: var(--fill-color);\n",
              "    animation:\n",
              "      spin 1s steps(1) infinite;\n",
              "  }\n",
              "\n",
              "  @keyframes spin {\n",
              "    0% {\n",
              "      border-color: transparent;\n",
              "      border-bottom-color: var(--fill-color);\n",
              "      border-left-color: var(--fill-color);\n",
              "    }\n",
              "    20% {\n",
              "      border-color: transparent;\n",
              "      border-left-color: var(--fill-color);\n",
              "      border-top-color: var(--fill-color);\n",
              "    }\n",
              "    30% {\n",
              "      border-color: transparent;\n",
              "      border-left-color: var(--fill-color);\n",
              "      border-top-color: var(--fill-color);\n",
              "      border-right-color: var(--fill-color);\n",
              "    }\n",
              "    40% {\n",
              "      border-color: transparent;\n",
              "      border-right-color: var(--fill-color);\n",
              "      border-top-color: var(--fill-color);\n",
              "    }\n",
              "    60% {\n",
              "      border-color: transparent;\n",
              "      border-right-color: var(--fill-color);\n",
              "    }\n",
              "    80% {\n",
              "      border-color: transparent;\n",
              "      border-right-color: var(--fill-color);\n",
              "      border-bottom-color: var(--fill-color);\n",
              "    }\n",
              "    90% {\n",
              "      border-color: transparent;\n",
              "      border-bottom-color: var(--fill-color);\n",
              "    }\n",
              "  }\n",
              "</style>\n",
              "\n",
              "      <script>\n",
              "        async function quickchart(key) {\n",
              "          const quickchartButtonEl =\n",
              "            document.querySelector('#' + key + ' button');\n",
              "          quickchartButtonEl.disabled = true;  // To prevent multiple clicks.\n",
              "          quickchartButtonEl.classList.add('colab-df-spinner');\n",
              "          try {\n",
              "            const charts = await google.colab.kernel.invokeFunction(\n",
              "                'suggestCharts', [key], {});\n",
              "          } catch (error) {\n",
              "            console.error('Error during call to suggestCharts:', error);\n",
              "          }\n",
              "          quickchartButtonEl.classList.remove('colab-df-spinner');\n",
              "          quickchartButtonEl.classList.add('colab-df-quickchart-complete');\n",
              "        }\n",
              "        (() => {\n",
              "          let quickchartButtonEl =\n",
              "            document.querySelector('#df-fbc43f66-31b8-4817-aeb3-581469ec4c11 button');\n",
              "          quickchartButtonEl.style.display =\n",
              "            google.colab.kernel.accessAllowed ? 'block' : 'none';\n",
              "        })();\n",
              "      </script>\n",
              "    </div>\n",
              "\n",
              "  <div id=\"id_b02d5581-7ecc-416f-9218-be815dd2e5fe\">\n",
              "    <style>\n",
              "      .colab-df-generate {\n",
              "        background-color: #E8F0FE;\n",
              "        border: none;\n",
              "        border-radius: 50%;\n",
              "        cursor: pointer;\n",
              "        display: none;\n",
              "        fill: #1967D2;\n",
              "        height: 32px;\n",
              "        padding: 0 0 0 0;\n",
              "        width: 32px;\n",
              "      }\n",
              "\n",
              "      .colab-df-generate:hover {\n",
              "        background-color: #E2EBFA;\n",
              "        box-shadow: 0px 1px 2px rgba(60, 64, 67, 0.3), 0px 1px 3px 1px rgba(60, 64, 67, 0.15);\n",
              "        fill: #174EA6;\n",
              "      }\n",
              "\n",
              "      [theme=dark] .colab-df-generate {\n",
              "        background-color: #3B4455;\n",
              "        fill: #D2E3FC;\n",
              "      }\n",
              "\n",
              "      [theme=dark] .colab-df-generate:hover {\n",
              "        background-color: #434B5C;\n",
              "        box-shadow: 0px 1px 3px 1px rgba(0, 0, 0, 0.15);\n",
              "        filter: drop-shadow(0px 1px 2px rgba(0, 0, 0, 0.3));\n",
              "        fill: #FFFFFF;\n",
              "      }\n",
              "    </style>\n",
              "    <button class=\"colab-df-generate\" onclick=\"generateWithVariable('df')\"\n",
              "            title=\"Generate code using this dataframe.\"\n",
              "            style=\"display:none;\">\n",
              "\n",
              "  <svg xmlns=\"http://www.w3.org/2000/svg\" height=\"24px\"viewBox=\"0 0 24 24\"\n",
              "       width=\"24px\">\n",
              "    <path d=\"M7,19H8.4L18.45,9,17,7.55,7,17.6ZM5,21V16.75L18.45,3.32a2,2,0,0,1,2.83,0l1.4,1.43a1.91,1.91,0,0,1,.58,1.4,1.91,1.91,0,0,1-.58,1.4L9.25,21ZM18.45,9,17,7.55Zm-12,3A5.31,5.31,0,0,0,4.9,8.1,5.31,5.31,0,0,0,1,6.5,5.31,5.31,0,0,0,4.9,4.9,5.31,5.31,0,0,0,6.5,1,5.31,5.31,0,0,0,8.1,4.9,5.31,5.31,0,0,0,12,6.5,5.46,5.46,0,0,0,6.5,12Z\"/>\n",
              "  </svg>\n",
              "    </button>\n",
              "    <script>\n",
              "      (() => {\n",
              "      const buttonEl =\n",
              "        document.querySelector('#id_b02d5581-7ecc-416f-9218-be815dd2e5fe button.colab-df-generate');\n",
              "      buttonEl.style.display =\n",
              "        google.colab.kernel.accessAllowed ? 'block' : 'none';\n",
              "\n",
              "      buttonEl.onclick = () => {\n",
              "        google.colab.notebook.generateWithVariable('df');\n",
              "      }\n",
              "      })();\n",
              "    </script>\n",
              "  </div>\n",
              "\n",
              "    </div>\n",
              "  </div>\n"
            ],
            "application/vnd.google.colaboratory.intrinsic+json": {
              "type": "dataframe",
              "variable_name": "df",
              "summary": "{\n  \"name\": \"df\",\n  \"rows\": 9,\n  \"fields\": [\n    {\n      \"column\": \"TF-IDF\",\n      \"properties\": {\n        \"dtype\": \"number\",\n        \"std\": 0.2393408978391756,\n        \"min\": 0.0,\n        \"max\": 0.4992213265230509,\n        \"num_unique_values\": 3,\n        \"samples\": [\n          0.0,\n          0.35520008546852583,\n          0.4992213265230509\n        ],\n        \"semantic_type\": \"\",\n        \"description\": \"\"\n      }\n    }\n  ]\n}"
            }
          },
          "metadata": {},
          "execution_count": 87
        }
      ]
    },
    {
      "cell_type": "code",
      "source": [],
      "metadata": {
        "id": "J1dcc5skGVny"
      },
      "execution_count": null,
      "outputs": []
    },
    {
      "cell_type": "markdown",
      "source": [
        "# WORD VECTORIZATION WITH ONE HOT ENCODING"
      ],
      "metadata": {
        "id": "BA6T76iuGYFA"
      }
    },
    {
      "cell_type": "code",
      "source": [
        "Doc1 = \"I am playing cricket game\"\n",
        "Doc2 = \"Cricket is a great game\"\n",
        "\n",
        "#Vocab --> I, am, playing, cricket, game, great, a, is\n",
        "\n",
        "I =       [1, 0, 0, 0, 0, 0, 0, 0]\n",
        "am =      [0, 1, 0, 0, 0, 0, 0, 0]\n",
        "playing = [0, 0, 1, 0, 0, 0, 0, 0]\n",
        "cricket = [0, 0, 0, 1, 0, 0, 0, 0]\n",
        "game =    [0, 0, 0, 0, 1, 0, 0, 0]\n",
        "\n",
        "#Count and TF-IDF vectorizers basically justify the importance of a word in a document\n",
        "#They still donot have semantic / context/ antomytimous/ synonymous proximity\n",
        "\n",
        "#Word Embeddings\n",
        "#Huge Corpus - Words are represented by a predictive algorithm\n",
        "\n",
        "#Based on surrounding words, which word can be present here -- skip gram model\n",
        "#Based on current set of words, which can be the next word -- continuous bag of words model\n",
        "\n",
        "# Word Embeddings\n",
        "\n",
        "# Frequency Based --> Bag of words, TF-IDF\n",
        "# Prediction Based --> Word2Vec, GloVe\n",
        "# Context Based --> BERT, GPT, ELMO"
      ],
      "metadata": {
        "id": "lJ54NZTrGdTE"
      },
      "execution_count": null,
      "outputs": []
    },
    {
      "cell_type": "markdown",
      "source": [],
      "metadata": {
        "id": "0FGMNPhW9vS8"
      }
    },
    {
      "cell_type": "markdown",
      "source": [
        "CONTINUOUS BAG OF WORDS MODEL & ASSOCIATED WORD EMBEDDINGS\n",
        "\n",
        "---\n",
        "\n",
        "NEURAL NETWORK BASED MODEL WHICH CAPTURES THE CONTEXT (WORDS BEFORE AND AFTER) TO PREDICT A WORD"
      ],
      "metadata": {
        "id": "Dx8OZwnk9vW6"
      }
    },
    {
      "cell_type": "code",
      "source": [
        "# #Bag size = 2\n",
        "# I am playing cricket this morning.\n",
        "# The boys are playing football today.\n",
        "\n",
        "# [I, playing --> am], [am, cricket -> playing], [cricket, morning -> this], [playing, this -> cricket], [cricket, morning -> this]\n",
        "# [playing, today --> football]\n",
        "\n",
        "# playing -->"
      ],
      "metadata": {
        "id": "lxIm22b49z93"
      },
      "execution_count": null,
      "outputs": []
    },
    {
      "cell_type": "code",
      "source": [
        "import tensorflow as tf\n",
        "from tensorflow.keras.models import Sequential\n",
        "from tensorflow.keras.layers import Dense, Embedding, Lambda\n",
        "from tensorflow.keras.preprocessing.text import Tokenizer\n",
        "import numpy as np\n",
        "import matplotlib.pyplot as plt\n"
      ],
      "metadata": {
        "id": "XdinUbfFBWUL"
      },
      "execution_count": null,
      "outputs": []
    },
    {
      "cell_type": "code",
      "source": [
        "dataset = ['I am playing cricket this morning', 'The boys are playing football today', 'She is playing with her friends today']"
      ],
      "metadata": {
        "id": "FXvKYcORB4SR"
      },
      "execution_count": null,
      "outputs": []
    },
    {
      "cell_type": "code",
      "source": [
        "tokenizer = Tokenizer()\n",
        "tokenizer.fit_on_texts(dataset)\n",
        "tokenizer.word_index"
      ],
      "metadata": {
        "colab": {
          "base_uri": "https://localhost:8080/"
        },
        "id": "I5OmTdQcCDGr",
        "outputId": "958de464-f03d-4209-c62c-f067f81704d2"
      },
      "execution_count": null,
      "outputs": [
        {
          "output_type": "execute_result",
          "data": {
            "text/plain": [
              "{'playing': 1,\n",
              " 'today': 2,\n",
              " 'i': 3,\n",
              " 'am': 4,\n",
              " 'cricket': 5,\n",
              " 'this': 6,\n",
              " 'morning': 7,\n",
              " 'the': 8,\n",
              " 'boys': 9,\n",
              " 'are': 10,\n",
              " 'football': 11,\n",
              " 'she': 12,\n",
              " 'is': 13,\n",
              " 'with': 14,\n",
              " 'her': 15,\n",
              " 'friends': 16}"
            ]
          },
          "metadata": {},
          "execution_count": 14
        }
      ]
    },
    {
      "cell_type": "code",
      "source": [
        "sequences = tokenizer.texts_to_sequences(dataset)\n",
        "sequences"
      ],
      "metadata": {
        "colab": {
          "base_uri": "https://localhost:8080/"
        },
        "id": "7U8C1k8lCH9K",
        "outputId": "23cbc2ba-2962-4563-927a-532f187ca773"
      },
      "execution_count": null,
      "outputs": [
        {
          "output_type": "execute_result",
          "data": {
            "text/plain": [
              "[[3, 4, 1, 5, 6, 7], [8, 9, 10, 1, 11, 2], [12, 13, 1, 14, 15, 16, 2]]"
            ]
          },
          "metadata": {},
          "execution_count": 16
        }
      ]
    },
    {
      "cell_type": "code",
      "source": [
        "vocabulary_size = len(tokenizer.word_index) + 1\n",
        "window_size = 2\n",
        "contexts = []\n",
        "targets = []\n",
        "embedding_size = 10\n",
        "for sequence in sequences:\n",
        "  for i in range(window_size, len(sequence) - window_size):\n",
        "    context = sequence[i-window_size:i] + sequence[i+1:i+window_size+1]\n",
        "    target = sequence[i]\n",
        "    contexts.append(context)\n",
        "    targets.append(target)\n",
        "    print(context, '->', target)\n",
        "print('contexts', contexts)\n",
        "print('targets', targets)"
      ],
      "metadata": {
        "colab": {
          "base_uri": "https://localhost:8080/"
        },
        "id": "NOtevyc0DMbK",
        "outputId": "73cc2af7-3e5e-4302-dd6f-1783f161aff9"
      },
      "execution_count": null,
      "outputs": [
        {
          "output_type": "stream",
          "name": "stdout",
          "text": [
            "[3, 4, 5, 6] -> 1\n",
            "[4, 1, 6, 7] -> 5\n",
            "[8, 9, 1, 11] -> 10\n",
            "[9, 10, 11, 2] -> 1\n",
            "[12, 13, 14, 15] -> 1\n",
            "[13, 1, 15, 16] -> 14\n",
            "[1, 14, 16, 2] -> 15\n",
            "contexts [[3, 4, 5, 6], [4, 1, 6, 7], [8, 9, 1, 11], [9, 10, 11, 2], [12, 13, 14, 15], [13, 1, 15, 16], [1, 14, 16, 2]]\n",
            "targets [1, 5, 10, 1, 1, 14, 15]\n"
          ]
        }
      ]
    },
    {
      "cell_type": "code",
      "source": [
        "from tensorflow.keras.utils import to_categorical\n",
        "X = np.array(contexts)\n",
        "y = to_categorical(targets, num_classes=vocabulary_size)\n",
        "X\n",
        "y"
      ],
      "metadata": {
        "colab": {
          "base_uri": "https://localhost:8080/"
        },
        "id": "FUstKvn9D0KJ",
        "outputId": "57706b58-3cf4-4d82-8c65-2ae4a09604a1"
      },
      "execution_count": null,
      "outputs": [
        {
          "output_type": "execute_result",
          "data": {
            "text/plain": [
              "array([[0., 1., 0., 0., 0., 0., 0., 0., 0., 0., 0., 0., 0., 0., 0., 0.,\n",
              "        0.],\n",
              "       [0., 0., 0., 0., 0., 1., 0., 0., 0., 0., 0., 0., 0., 0., 0., 0.,\n",
              "        0.],\n",
              "       [0., 0., 0., 0., 0., 0., 0., 0., 0., 0., 1., 0., 0., 0., 0., 0.,\n",
              "        0.],\n",
              "       [0., 1., 0., 0., 0., 0., 0., 0., 0., 0., 0., 0., 0., 0., 0., 0.,\n",
              "        0.],\n",
              "       [0., 1., 0., 0., 0., 0., 0., 0., 0., 0., 0., 0., 0., 0., 0., 0.,\n",
              "        0.],\n",
              "       [0., 0., 0., 0., 0., 0., 0., 0., 0., 0., 0., 0., 0., 0., 1., 0.,\n",
              "        0.],\n",
              "       [0., 0., 0., 0., 0., 0., 0., 0., 0., 0., 0., 0., 0., 0., 0., 1.,\n",
              "        0.]])"
            ]
          },
          "metadata": {},
          "execution_count": 21
        }
      ]
    },
    {
      "cell_type": "code",
      "source": [
        "model = Sequential()\n",
        "model.add(Embedding(input_dim=vocabulary_size, output_dim=embedding_size, input_length=window_size*2))\n",
        "model.add(Lambda(lambda x: tf.reduce_mean(x, axis=1)))\n",
        "model.add(Dense(units = vocabulary_size, activation='softmax'))"
      ],
      "metadata": {
        "colab": {
          "base_uri": "https://localhost:8080/"
        },
        "id": "kEs4SRSvDV7q",
        "outputId": "69ea06ed-6aaa-4f41-c852-c0dd0ea5ded6"
      },
      "execution_count": null,
      "outputs": [
        {
          "output_type": "stream",
          "name": "stderr",
          "text": [
            "/usr/local/lib/python3.11/dist-packages/keras/src/layers/core/embedding.py:90: UserWarning: Argument `input_length` is deprecated. Just remove it.\n",
            "  warnings.warn(\n"
          ]
        }
      ]
    },
    {
      "cell_type": "code",
      "source": [
        "model.compile(optimizer='adam', loss = 'categorical_crossentropy', metrics=['accuracy'])\n",
        "model.fit(X, y, epochs = 100)"
      ],
      "metadata": {
        "colab": {
          "base_uri": "https://localhost:8080/"
        },
        "collapsed": true,
        "id": "46dZP5-mG9HT",
        "outputId": "4b22641a-9d6e-4ecf-b5f0-9081c07e6d76"
      },
      "execution_count": null,
      "outputs": [
        {
          "output_type": "stream",
          "name": "stdout",
          "text": [
            "Epoch 1/100\n",
            "\u001b[1m1/1\u001b[0m \u001b[32m━━━━━━━━━━━━━━━━━━━━\u001b[0m\u001b[37m\u001b[0m \u001b[1m1s\u001b[0m 1s/step - accuracy: 0.0000e+00 - loss: 2.8350\n",
            "Epoch 2/100\n",
            "\u001b[1m1/1\u001b[0m \u001b[32m━━━━━━━━━━━━━━━━━━━━\u001b[0m\u001b[37m\u001b[0m \u001b[1m0s\u001b[0m 52ms/step - accuracy: 0.0000e+00 - loss: 2.8320\n",
            "Epoch 3/100\n",
            "\u001b[1m1/1\u001b[0m \u001b[32m━━━━━━━━━━━━━━━━━━━━\u001b[0m\u001b[37m\u001b[0m \u001b[1m0s\u001b[0m 58ms/step - accuracy: 0.0000e+00 - loss: 2.8289\n",
            "Epoch 4/100\n",
            "\u001b[1m1/1\u001b[0m \u001b[32m━━━━━━━━━━━━━━━━━━━━\u001b[0m\u001b[37m\u001b[0m \u001b[1m0s\u001b[0m 49ms/step - accuracy: 0.0000e+00 - loss: 2.8259\n",
            "Epoch 5/100\n",
            "\u001b[1m1/1\u001b[0m \u001b[32m━━━━━━━━━━━━━━━━━━━━\u001b[0m\u001b[37m\u001b[0m \u001b[1m0s\u001b[0m 59ms/step - accuracy: 0.0000e+00 - loss: 2.8228\n",
            "Epoch 6/100\n",
            "\u001b[1m1/1\u001b[0m \u001b[32m━━━━━━━━━━━━━━━━━━━━\u001b[0m\u001b[37m\u001b[0m \u001b[1m0s\u001b[0m 55ms/step - accuracy: 0.0000e+00 - loss: 2.8197\n",
            "Epoch 7/100\n",
            "\u001b[1m1/1\u001b[0m \u001b[32m━━━━━━━━━━━━━━━━━━━━\u001b[0m\u001b[37m\u001b[0m \u001b[1m0s\u001b[0m 59ms/step - accuracy: 0.0000e+00 - loss: 2.8167\n",
            "Epoch 8/100\n",
            "\u001b[1m1/1\u001b[0m \u001b[32m━━━━━━━━━━━━━━━━━━━━\u001b[0m\u001b[37m\u001b[0m \u001b[1m0s\u001b[0m 57ms/step - accuracy: 0.0000e+00 - loss: 2.8136\n",
            "Epoch 9/100\n",
            "\u001b[1m1/1\u001b[0m \u001b[32m━━━━━━━━━━━━━━━━━━━━\u001b[0m\u001b[37m\u001b[0m \u001b[1m0s\u001b[0m 50ms/step - accuracy: 0.2857 - loss: 2.8105\n",
            "Epoch 10/100\n",
            "\u001b[1m1/1\u001b[0m \u001b[32m━━━━━━━━━━━━━━━━━━━━\u001b[0m\u001b[37m\u001b[0m \u001b[1m0s\u001b[0m 65ms/step - accuracy: 0.4286 - loss: 2.8074\n",
            "Epoch 11/100\n",
            "\u001b[1m1/1\u001b[0m \u001b[32m━━━━━━━━━━━━━━━━━━━━\u001b[0m\u001b[37m\u001b[0m \u001b[1m0s\u001b[0m 56ms/step - accuracy: 0.4286 - loss: 2.8043\n",
            "Epoch 12/100\n",
            "\u001b[1m1/1\u001b[0m \u001b[32m━━━━━━━━━━━━━━━━━━━━\u001b[0m\u001b[37m\u001b[0m \u001b[1m0s\u001b[0m 48ms/step - accuracy: 0.5714 - loss: 2.8012\n",
            "Epoch 13/100\n",
            "\u001b[1m1/1\u001b[0m \u001b[32m━━━━━━━━━━━━━━━━━━━━\u001b[0m\u001b[37m\u001b[0m \u001b[1m0s\u001b[0m 49ms/step - accuracy: 0.5714 - loss: 2.7981\n",
            "Epoch 14/100\n",
            "\u001b[1m1/1\u001b[0m \u001b[32m━━━━━━━━━━━━━━━━━━━━\u001b[0m\u001b[37m\u001b[0m \u001b[1m0s\u001b[0m 47ms/step - accuracy: 0.5714 - loss: 2.7949\n",
            "Epoch 15/100\n",
            "\u001b[1m1/1\u001b[0m \u001b[32m━━━━━━━━━━━━━━━━━━━━\u001b[0m\u001b[37m\u001b[0m \u001b[1m0s\u001b[0m 51ms/step - accuracy: 0.5714 - loss: 2.7918\n",
            "Epoch 16/100\n",
            "\u001b[1m1/1\u001b[0m \u001b[32m━━━━━━━━━━━━━━━━━━━━\u001b[0m\u001b[37m\u001b[0m \u001b[1m0s\u001b[0m 57ms/step - accuracy: 0.7143 - loss: 2.7886\n",
            "Epoch 17/100\n",
            "\u001b[1m1/1\u001b[0m \u001b[32m━━━━━━━━━━━━━━━━━━━━\u001b[0m\u001b[37m\u001b[0m \u001b[1m0s\u001b[0m 51ms/step - accuracy: 0.7143 - loss: 2.7854\n",
            "Epoch 18/100\n",
            "\u001b[1m1/1\u001b[0m \u001b[32m━━━━━━━━━━━━━━━━━━━━\u001b[0m\u001b[37m\u001b[0m \u001b[1m0s\u001b[0m 52ms/step - accuracy: 0.7143 - loss: 2.7822\n",
            "Epoch 19/100\n",
            "\u001b[1m1/1\u001b[0m \u001b[32m━━━━━━━━━━━━━━━━━━━━\u001b[0m\u001b[37m\u001b[0m \u001b[1m0s\u001b[0m 58ms/step - accuracy: 0.7143 - loss: 2.7790\n",
            "Epoch 20/100\n",
            "\u001b[1m1/1\u001b[0m \u001b[32m━━━━━━━━━━━━━━━━━━━━\u001b[0m\u001b[37m\u001b[0m \u001b[1m0s\u001b[0m 53ms/step - accuracy: 0.7143 - loss: 2.7757\n",
            "Epoch 21/100\n",
            "\u001b[1m1/1\u001b[0m \u001b[32m━━━━━━━━━━━━━━━━━━━━\u001b[0m\u001b[37m\u001b[0m \u001b[1m0s\u001b[0m 58ms/step - accuracy: 0.7143 - loss: 2.7725\n",
            "Epoch 22/100\n",
            "\u001b[1m1/1\u001b[0m \u001b[32m━━━━━━━━━━━━━━━━━━━━\u001b[0m\u001b[37m\u001b[0m \u001b[1m0s\u001b[0m 53ms/step - accuracy: 0.7143 - loss: 2.7692\n",
            "Epoch 23/100\n",
            "\u001b[1m1/1\u001b[0m \u001b[32m━━━━━━━━━━━━━━━━━━━━\u001b[0m\u001b[37m\u001b[0m \u001b[1m0s\u001b[0m 50ms/step - accuracy: 0.8571 - loss: 2.7659\n",
            "Epoch 24/100\n",
            "\u001b[1m1/1\u001b[0m \u001b[32m━━━━━━━━━━━━━━━━━━━━\u001b[0m\u001b[37m\u001b[0m \u001b[1m0s\u001b[0m 51ms/step - accuracy: 0.8571 - loss: 2.7626\n",
            "Epoch 25/100\n",
            "\u001b[1m1/1\u001b[0m \u001b[32m━━━━━━━━━━━━━━━━━━━━\u001b[0m\u001b[37m\u001b[0m \u001b[1m0s\u001b[0m 49ms/step - accuracy: 0.8571 - loss: 2.7592\n",
            "Epoch 26/100\n",
            "\u001b[1m1/1\u001b[0m \u001b[32m━━━━━━━━━━━━━━━━━━━━\u001b[0m\u001b[37m\u001b[0m \u001b[1m0s\u001b[0m 53ms/step - accuracy: 0.8571 - loss: 2.7559\n",
            "Epoch 27/100\n",
            "\u001b[1m1/1\u001b[0m \u001b[32m━━━━━━━━━━━━━━━━━━━━\u001b[0m\u001b[37m\u001b[0m \u001b[1m0s\u001b[0m 55ms/step - accuracy: 0.8571 - loss: 2.7525\n",
            "Epoch 28/100\n",
            "\u001b[1m1/1\u001b[0m \u001b[32m━━━━━━━━━━━━━━━━━━━━\u001b[0m\u001b[37m\u001b[0m \u001b[1m0s\u001b[0m 135ms/step - accuracy: 0.8571 - loss: 2.7491\n",
            "Epoch 29/100\n",
            "\u001b[1m1/1\u001b[0m \u001b[32m━━━━━━━━━━━━━━━━━━━━\u001b[0m\u001b[37m\u001b[0m \u001b[1m0s\u001b[0m 58ms/step - accuracy: 0.8571 - loss: 2.7456\n",
            "Epoch 30/100\n",
            "\u001b[1m1/1\u001b[0m \u001b[32m━━━━━━━━━━━━━━━━━━━━\u001b[0m\u001b[37m\u001b[0m \u001b[1m0s\u001b[0m 48ms/step - accuracy: 0.8571 - loss: 2.7422\n",
            "Epoch 31/100\n",
            "\u001b[1m1/1\u001b[0m \u001b[32m━━━━━━━━━━━━━━━━━━━━\u001b[0m\u001b[37m\u001b[0m \u001b[1m0s\u001b[0m 49ms/step - accuracy: 0.8571 - loss: 2.7387\n",
            "Epoch 32/100\n",
            "\u001b[1m1/1\u001b[0m \u001b[32m━━━━━━━━━━━━━━━━━━━━\u001b[0m\u001b[37m\u001b[0m \u001b[1m0s\u001b[0m 59ms/step - accuracy: 1.0000 - loss: 2.7351\n",
            "Epoch 33/100\n",
            "\u001b[1m1/1\u001b[0m \u001b[32m━━━━━━━━━━━━━━━━━━━━\u001b[0m\u001b[37m\u001b[0m \u001b[1m0s\u001b[0m 52ms/step - accuracy: 1.0000 - loss: 2.7316\n",
            "Epoch 34/100\n",
            "\u001b[1m1/1\u001b[0m \u001b[32m━━━━━━━━━━━━━━━━━━━━\u001b[0m\u001b[37m\u001b[0m \u001b[1m0s\u001b[0m 48ms/step - accuracy: 1.0000 - loss: 2.7280\n",
            "Epoch 35/100\n",
            "\u001b[1m1/1\u001b[0m \u001b[32m━━━━━━━━━━━━━━━━━━━━\u001b[0m\u001b[37m\u001b[0m \u001b[1m0s\u001b[0m 61ms/step - accuracy: 1.0000 - loss: 2.7244\n",
            "Epoch 36/100\n",
            "\u001b[1m1/1\u001b[0m \u001b[32m━━━━━━━━━━━━━━━━━━━━\u001b[0m\u001b[37m\u001b[0m \u001b[1m0s\u001b[0m 76ms/step - accuracy: 1.0000 - loss: 2.7207\n",
            "Epoch 37/100\n",
            "\u001b[1m1/1\u001b[0m \u001b[32m━━━━━━━━━━━━━━━━━━━━\u001b[0m\u001b[37m\u001b[0m \u001b[1m0s\u001b[0m 132ms/step - accuracy: 1.0000 - loss: 2.7171\n",
            "Epoch 38/100\n",
            "\u001b[1m1/1\u001b[0m \u001b[32m━━━━━━━━━━━━━━━━━━━━\u001b[0m\u001b[37m\u001b[0m \u001b[1m0s\u001b[0m 137ms/step - accuracy: 1.0000 - loss: 2.7134\n",
            "Epoch 39/100\n",
            "\u001b[1m1/1\u001b[0m \u001b[32m━━━━━━━━━━━━━━━━━━━━\u001b[0m\u001b[37m\u001b[0m \u001b[1m0s\u001b[0m 79ms/step - accuracy: 1.0000 - loss: 2.7096\n",
            "Epoch 40/100\n",
            "\u001b[1m1/1\u001b[0m \u001b[32m━━━━━━━━━━━━━━━━━━━━\u001b[0m\u001b[37m\u001b[0m \u001b[1m0s\u001b[0m 89ms/step - accuracy: 1.0000 - loss: 2.7059\n",
            "Epoch 41/100\n",
            "\u001b[1m1/1\u001b[0m \u001b[32m━━━━━━━━━━━━━━━━━━━━\u001b[0m\u001b[37m\u001b[0m \u001b[1m0s\u001b[0m 83ms/step - accuracy: 1.0000 - loss: 2.7021\n",
            "Epoch 42/100\n",
            "\u001b[1m1/1\u001b[0m \u001b[32m━━━━━━━━━━━━━━━━━━━━\u001b[0m\u001b[37m\u001b[0m \u001b[1m0s\u001b[0m 140ms/step - accuracy: 1.0000 - loss: 2.6982\n",
            "Epoch 43/100\n",
            "\u001b[1m1/1\u001b[0m \u001b[32m━━━━━━━━━━━━━━━━━━━━\u001b[0m\u001b[37m\u001b[0m \u001b[1m0s\u001b[0m 140ms/step - accuracy: 1.0000 - loss: 2.6944\n",
            "Epoch 44/100\n",
            "\u001b[1m1/1\u001b[0m \u001b[32m━━━━━━━━━━━━━━━━━━━━\u001b[0m\u001b[37m\u001b[0m \u001b[1m0s\u001b[0m 72ms/step - accuracy: 1.0000 - loss: 2.6905\n",
            "Epoch 45/100\n",
            "\u001b[1m1/1\u001b[0m \u001b[32m━━━━━━━━━━━━━━━━━━━━\u001b[0m\u001b[37m\u001b[0m \u001b[1m0s\u001b[0m 136ms/step - accuracy: 1.0000 - loss: 2.6865\n",
            "Epoch 46/100\n",
            "\u001b[1m1/1\u001b[0m \u001b[32m━━━━━━━━━━━━━━━━━━━━\u001b[0m\u001b[37m\u001b[0m \u001b[1m0s\u001b[0m 136ms/step - accuracy: 1.0000 - loss: 2.6826\n",
            "Epoch 47/100\n",
            "\u001b[1m1/1\u001b[0m \u001b[32m━━━━━━━━━━━━━━━━━━━━\u001b[0m\u001b[37m\u001b[0m \u001b[1m0s\u001b[0m 147ms/step - accuracy: 1.0000 - loss: 2.6786\n",
            "Epoch 48/100\n",
            "\u001b[1m1/1\u001b[0m \u001b[32m━━━━━━━━━━━━━━━━━━━━\u001b[0m\u001b[37m\u001b[0m \u001b[1m0s\u001b[0m 82ms/step - accuracy: 1.0000 - loss: 2.6745\n",
            "Epoch 49/100\n",
            "\u001b[1m1/1\u001b[0m \u001b[32m━━━━━━━━━━━━━━━━━━━━\u001b[0m\u001b[37m\u001b[0m \u001b[1m0s\u001b[0m 85ms/step - accuracy: 1.0000 - loss: 2.6704\n",
            "Epoch 50/100\n",
            "\u001b[1m1/1\u001b[0m \u001b[32m━━━━━━━━━━━━━━━━━━━━\u001b[0m\u001b[37m\u001b[0m \u001b[1m0s\u001b[0m 75ms/step - accuracy: 1.0000 - loss: 2.6663\n",
            "Epoch 51/100\n",
            "\u001b[1m1/1\u001b[0m \u001b[32m━━━━━━━━━━━━━━━━━━━━\u001b[0m\u001b[37m\u001b[0m \u001b[1m0s\u001b[0m 74ms/step - accuracy: 1.0000 - loss: 2.6622\n",
            "Epoch 52/100\n",
            "\u001b[1m1/1\u001b[0m \u001b[32m━━━━━━━━━━━━━━━━━━━━\u001b[0m\u001b[37m\u001b[0m \u001b[1m0s\u001b[0m 71ms/step - accuracy: 1.0000 - loss: 2.6580\n",
            "Epoch 53/100\n",
            "\u001b[1m1/1\u001b[0m \u001b[32m━━━━━━━━━━━━━━━━━━━━\u001b[0m\u001b[37m\u001b[0m \u001b[1m0s\u001b[0m 89ms/step - accuracy: 1.0000 - loss: 2.6538\n",
            "Epoch 54/100\n",
            "\u001b[1m1/1\u001b[0m \u001b[32m━━━━━━━━━━━━━━━━━━━━\u001b[0m\u001b[37m\u001b[0m \u001b[1m0s\u001b[0m 80ms/step - accuracy: 1.0000 - loss: 2.6495\n",
            "Epoch 55/100\n",
            "\u001b[1m1/1\u001b[0m \u001b[32m━━━━━━━━━━━━━━━━━━━━\u001b[0m\u001b[37m\u001b[0m \u001b[1m0s\u001b[0m 138ms/step - accuracy: 1.0000 - loss: 2.6452\n",
            "Epoch 56/100\n",
            "\u001b[1m1/1\u001b[0m \u001b[32m━━━━━━━━━━━━━━━━━━━━\u001b[0m\u001b[37m\u001b[0m \u001b[1m0s\u001b[0m 120ms/step - accuracy: 1.0000 - loss: 2.6409\n",
            "Epoch 57/100\n",
            "\u001b[1m1/1\u001b[0m \u001b[32m━━━━━━━━━━━━━━━━━━━━\u001b[0m\u001b[37m\u001b[0m \u001b[1m0s\u001b[0m 52ms/step - accuracy: 1.0000 - loss: 2.6365\n",
            "Epoch 58/100\n",
            "\u001b[1m1/1\u001b[0m \u001b[32m━━━━━━━━━━━━━━━━━━━━\u001b[0m\u001b[37m\u001b[0m \u001b[1m0s\u001b[0m 59ms/step - accuracy: 1.0000 - loss: 2.6321\n",
            "Epoch 59/100\n",
            "\u001b[1m1/1\u001b[0m \u001b[32m━━━━━━━━━━━━━━━━━━━━\u001b[0m\u001b[37m\u001b[0m \u001b[1m0s\u001b[0m 50ms/step - accuracy: 1.0000 - loss: 2.6277\n",
            "Epoch 60/100\n",
            "\u001b[1m1/1\u001b[0m \u001b[32m━━━━━━━━━━━━━━━━━━━━\u001b[0m\u001b[37m\u001b[0m \u001b[1m0s\u001b[0m 57ms/step - accuracy: 1.0000 - loss: 2.6232\n",
            "Epoch 61/100\n",
            "\u001b[1m1/1\u001b[0m \u001b[32m━━━━━━━━━━━━━━━━━━━━\u001b[0m\u001b[37m\u001b[0m \u001b[1m0s\u001b[0m 49ms/step - accuracy: 1.0000 - loss: 2.6187\n",
            "Epoch 62/100\n",
            "\u001b[1m1/1\u001b[0m \u001b[32m━━━━━━━━━━━━━━━━━━━━\u001b[0m\u001b[37m\u001b[0m \u001b[1m0s\u001b[0m 70ms/step - accuracy: 1.0000 - loss: 2.6141\n",
            "Epoch 63/100\n",
            "\u001b[1m1/1\u001b[0m \u001b[32m━━━━━━━━━━━━━━━━━━━━\u001b[0m\u001b[37m\u001b[0m \u001b[1m0s\u001b[0m 51ms/step - accuracy: 1.0000 - loss: 2.6095\n",
            "Epoch 64/100\n",
            "\u001b[1m1/1\u001b[0m \u001b[32m━━━━━━━━━━━━━━━━━━━━\u001b[0m\u001b[37m\u001b[0m \u001b[1m0s\u001b[0m 49ms/step - accuracy: 1.0000 - loss: 2.6049\n",
            "Epoch 65/100\n",
            "\u001b[1m1/1\u001b[0m \u001b[32m━━━━━━━━━━━━━━━━━━━━\u001b[0m\u001b[37m\u001b[0m \u001b[1m0s\u001b[0m 60ms/step - accuracy: 1.0000 - loss: 2.6002\n",
            "Epoch 66/100\n",
            "\u001b[1m1/1\u001b[0m \u001b[32m━━━━━━━━━━━━━━━━━━━━\u001b[0m\u001b[37m\u001b[0m \u001b[1m0s\u001b[0m 58ms/step - accuracy: 1.0000 - loss: 2.5955\n",
            "Epoch 67/100\n",
            "\u001b[1m1/1\u001b[0m \u001b[32m━━━━━━━━━━━━━━━━━━━━\u001b[0m\u001b[37m\u001b[0m \u001b[1m0s\u001b[0m 53ms/step - accuracy: 1.0000 - loss: 2.5907\n",
            "Epoch 68/100\n",
            "\u001b[1m1/1\u001b[0m \u001b[32m━━━━━━━━━━━━━━━━━━━━\u001b[0m\u001b[37m\u001b[0m \u001b[1m0s\u001b[0m 52ms/step - accuracy: 1.0000 - loss: 2.5859\n",
            "Epoch 69/100\n",
            "\u001b[1m1/1\u001b[0m \u001b[32m━━━━━━━━━━━━━━━━━━━━\u001b[0m\u001b[37m\u001b[0m \u001b[1m0s\u001b[0m 51ms/step - accuracy: 1.0000 - loss: 2.5810\n",
            "Epoch 70/100\n",
            "\u001b[1m1/1\u001b[0m \u001b[32m━━━━━━━━━━━━━━━━━━━━\u001b[0m\u001b[37m\u001b[0m \u001b[1m0s\u001b[0m 56ms/step - accuracy: 1.0000 - loss: 2.5762\n",
            "Epoch 71/100\n",
            "\u001b[1m1/1\u001b[0m \u001b[32m━━━━━━━━━━━━━━━━━━━━\u001b[0m\u001b[37m\u001b[0m \u001b[1m0s\u001b[0m 52ms/step - accuracy: 1.0000 - loss: 2.5712\n",
            "Epoch 72/100\n",
            "\u001b[1m1/1\u001b[0m \u001b[32m━━━━━━━━━━━━━━━━━━━━\u001b[0m\u001b[37m\u001b[0m \u001b[1m0s\u001b[0m 52ms/step - accuracy: 1.0000 - loss: 2.5663\n",
            "Epoch 73/100\n",
            "\u001b[1m1/1\u001b[0m \u001b[32m━━━━━━━━━━━━━━━━━━━━\u001b[0m\u001b[37m\u001b[0m \u001b[1m0s\u001b[0m 49ms/step - accuracy: 1.0000 - loss: 2.5613\n",
            "Epoch 74/100\n",
            "\u001b[1m1/1\u001b[0m \u001b[32m━━━━━━━━━━━━━━━━━━━━\u001b[0m\u001b[37m\u001b[0m \u001b[1m0s\u001b[0m 53ms/step - accuracy: 1.0000 - loss: 2.5562\n",
            "Epoch 75/100\n",
            "\u001b[1m1/1\u001b[0m \u001b[32m━━━━━━━━━━━━━━━━━━━━\u001b[0m\u001b[37m\u001b[0m \u001b[1m0s\u001b[0m 59ms/step - accuracy: 1.0000 - loss: 2.5512\n",
            "Epoch 76/100\n",
            "\u001b[1m1/1\u001b[0m \u001b[32m━━━━━━━━━━━━━━━━━━━━\u001b[0m\u001b[37m\u001b[0m \u001b[1m0s\u001b[0m 60ms/step - accuracy: 1.0000 - loss: 2.5460\n",
            "Epoch 77/100\n",
            "\u001b[1m1/1\u001b[0m \u001b[32m━━━━━━━━━━━━━━━━━━━━\u001b[0m\u001b[37m\u001b[0m \u001b[1m0s\u001b[0m 55ms/step - accuracy: 1.0000 - loss: 2.5409\n",
            "Epoch 78/100\n",
            "\u001b[1m1/1\u001b[0m \u001b[32m━━━━━━━━━━━━━━━━━━━━\u001b[0m\u001b[37m\u001b[0m \u001b[1m0s\u001b[0m 54ms/step - accuracy: 1.0000 - loss: 2.5357\n",
            "Epoch 79/100\n",
            "\u001b[1m1/1\u001b[0m \u001b[32m━━━━━━━━━━━━━━━━━━━━\u001b[0m\u001b[37m\u001b[0m \u001b[1m0s\u001b[0m 67ms/step - accuracy: 1.0000 - loss: 2.5304\n",
            "Epoch 80/100\n",
            "\u001b[1m1/1\u001b[0m \u001b[32m━━━━━━━━━━━━━━━━━━━━\u001b[0m\u001b[37m\u001b[0m \u001b[1m0s\u001b[0m 63ms/step - accuracy: 1.0000 - loss: 2.5252\n",
            "Epoch 81/100\n",
            "\u001b[1m1/1\u001b[0m \u001b[32m━━━━━━━━━━━━━━━━━━━━\u001b[0m\u001b[37m\u001b[0m \u001b[1m0s\u001b[0m 59ms/step - accuracy: 1.0000 - loss: 2.5198\n",
            "Epoch 82/100\n",
            "\u001b[1m1/1\u001b[0m \u001b[32m━━━━━━━━━━━━━━━━━━━━\u001b[0m\u001b[37m\u001b[0m \u001b[1m0s\u001b[0m 57ms/step - accuracy: 1.0000 - loss: 2.5145\n",
            "Epoch 83/100\n",
            "\u001b[1m1/1\u001b[0m \u001b[32m━━━━━━━━━━━━━━━━━━━━\u001b[0m\u001b[37m\u001b[0m \u001b[1m0s\u001b[0m 52ms/step - accuracy: 1.0000 - loss: 2.5091\n",
            "Epoch 84/100\n",
            "\u001b[1m1/1\u001b[0m \u001b[32m━━━━━━━━━━━━━━━━━━━━\u001b[0m\u001b[37m\u001b[0m \u001b[1m0s\u001b[0m 58ms/step - accuracy: 1.0000 - loss: 2.5036\n",
            "Epoch 85/100\n",
            "\u001b[1m1/1\u001b[0m \u001b[32m━━━━━━━━━━━━━━━━━━━━\u001b[0m\u001b[37m\u001b[0m \u001b[1m0s\u001b[0m 56ms/step - accuracy: 1.0000 - loss: 2.4981\n",
            "Epoch 86/100\n",
            "\u001b[1m1/1\u001b[0m \u001b[32m━━━━━━━━━━━━━━━━━━━━\u001b[0m\u001b[37m\u001b[0m \u001b[1m0s\u001b[0m 60ms/step - accuracy: 1.0000 - loss: 2.4926\n",
            "Epoch 87/100\n",
            "\u001b[1m1/1\u001b[0m \u001b[32m━━━━━━━━━━━━━━━━━━━━\u001b[0m\u001b[37m\u001b[0m \u001b[1m0s\u001b[0m 72ms/step - accuracy: 1.0000 - loss: 2.4870\n",
            "Epoch 88/100\n",
            "\u001b[1m1/1\u001b[0m \u001b[32m━━━━━━━━━━━━━━━━━━━━\u001b[0m\u001b[37m\u001b[0m \u001b[1m0s\u001b[0m 51ms/step - accuracy: 1.0000 - loss: 2.4814\n",
            "Epoch 89/100\n",
            "\u001b[1m1/1\u001b[0m \u001b[32m━━━━━━━━━━━━━━━━━━━━\u001b[0m\u001b[37m\u001b[0m \u001b[1m0s\u001b[0m 50ms/step - accuracy: 1.0000 - loss: 2.4758\n",
            "Epoch 90/100\n",
            "\u001b[1m1/1\u001b[0m \u001b[32m━━━━━━━━━━━━━━━━━━━━\u001b[0m\u001b[37m\u001b[0m \u001b[1m0s\u001b[0m 53ms/step - accuracy: 1.0000 - loss: 2.4701\n",
            "Epoch 91/100\n",
            "\u001b[1m1/1\u001b[0m \u001b[32m━━━━━━━━━━━━━━━━━━━━\u001b[0m\u001b[37m\u001b[0m \u001b[1m0s\u001b[0m 60ms/step - accuracy: 1.0000 - loss: 2.4644\n",
            "Epoch 92/100\n",
            "\u001b[1m1/1\u001b[0m \u001b[32m━━━━━━━━━━━━━━━━━━━━\u001b[0m\u001b[37m\u001b[0m \u001b[1m0s\u001b[0m 56ms/step - accuracy: 1.0000 - loss: 2.4586\n",
            "Epoch 93/100\n",
            "\u001b[1m1/1\u001b[0m \u001b[32m━━━━━━━━━━━━━━━━━━━━\u001b[0m\u001b[37m\u001b[0m \u001b[1m0s\u001b[0m 50ms/step - accuracy: 1.0000 - loss: 2.4528\n",
            "Epoch 94/100\n",
            "\u001b[1m1/1\u001b[0m \u001b[32m━━━━━━━━━━━━━━━━━━━━\u001b[0m\u001b[37m\u001b[0m \u001b[1m0s\u001b[0m 50ms/step - accuracy: 1.0000 - loss: 2.4470\n",
            "Epoch 95/100\n",
            "\u001b[1m1/1\u001b[0m \u001b[32m━━━━━━━━━━━━━━━━━━━━\u001b[0m\u001b[37m\u001b[0m \u001b[1m0s\u001b[0m 50ms/step - accuracy: 1.0000 - loss: 2.4411\n",
            "Epoch 96/100\n",
            "\u001b[1m1/1\u001b[0m \u001b[32m━━━━━━━━━━━━━━━━━━━━\u001b[0m\u001b[37m\u001b[0m \u001b[1m0s\u001b[0m 71ms/step - accuracy: 1.0000 - loss: 2.4352\n",
            "Epoch 97/100\n",
            "\u001b[1m1/1\u001b[0m \u001b[32m━━━━━━━━━━━━━━━━━━━━\u001b[0m\u001b[37m\u001b[0m \u001b[1m0s\u001b[0m 58ms/step - accuracy: 1.0000 - loss: 2.4292\n",
            "Epoch 98/100\n",
            "\u001b[1m1/1\u001b[0m \u001b[32m━━━━━━━━━━━━━━━━━━━━\u001b[0m\u001b[37m\u001b[0m \u001b[1m0s\u001b[0m 60ms/step - accuracy: 1.0000 - loss: 2.4232\n",
            "Epoch 99/100\n",
            "\u001b[1m1/1\u001b[0m \u001b[32m━━━━━━━━━━━━━━━━━━━━\u001b[0m\u001b[37m\u001b[0m \u001b[1m0s\u001b[0m 55ms/step - accuracy: 1.0000 - loss: 2.4172\n",
            "Epoch 100/100\n",
            "\u001b[1m1/1\u001b[0m \u001b[32m━━━━━━━━━━━━━━━━━━━━\u001b[0m\u001b[37m\u001b[0m \u001b[1m0s\u001b[0m 58ms/step - accuracy: 1.0000 - loss: 2.4111\n"
          ]
        },
        {
          "output_type": "execute_result",
          "data": {
            "text/plain": [
              "<keras.src.callbacks.history.History at 0x7bc605e05750>"
            ]
          },
          "metadata": {},
          "execution_count": 26
        }
      ]
    },
    {
      "cell_type": "code",
      "source": [
        "model.layers[0].get_weights()[0]"
      ],
      "metadata": {
        "colab": {
          "base_uri": "https://localhost:8080/"
        },
        "collapsed": true,
        "id": "Wd_QcTCXHss-",
        "outputId": "365c12f8-cf65-4790-c584-53da658d9cdb"
      },
      "execution_count": null,
      "outputs": [
        {
          "output_type": "execute_result",
          "data": {
            "text/plain": [
              "array([[-0.00723707, -0.03672737,  0.02942658,  0.01044901,  0.00336107,\n",
              "        -0.00554911, -0.02700013,  0.04673347, -0.03107744,  0.02484106],\n",
              "       [-0.04708099,  0.02433375,  0.16359694,  0.09728253,  0.12826042,\n",
              "        -0.12426272, -0.0069105 ,  0.09688725, -0.01826816, -0.12971655],\n",
              "       [-0.04397675,  0.02860758,  0.10657113, -0.1205908 , -0.1489059 ,\n",
              "        -0.1346517 ,  0.01164991, -0.05097449, -0.00397516, -0.09830583],\n",
              "       [-0.08386773,  0.10423945,  0.1717686 , -0.10586562, -0.13913867,\n",
              "        -0.11456811, -0.11483548, -0.14520249,  0.07660636, -0.1156559 ],\n",
              "       [-0.16184102,  0.00701021,  0.189234  ,  0.04267035,  0.01664029,\n",
              "        -0.1387844 , -0.0691238 , -0.11911053, -0.02270794,  0.01252326],\n",
              "       [-0.12247276,  0.06727569,  0.10722557, -0.10479843, -0.11154911,\n",
              "        -0.09039162, -0.11095539, -0.12593633,  0.08016577, -0.10147714],\n",
              "       [-0.18757229,  0.09454138,  0.20660634,  0.10353035,  0.06856782,\n",
              "        -0.10983036, -0.11896782, -0.17818767,  0.0351974 , -0.01680852],\n",
              "       [-0.12746419, -0.12191179,  0.10941203,  0.07832392,  0.12688577,\n",
              "        -0.08595905,  0.10332316, -0.10516952, -0.13912195,  0.08225106],\n",
              "       [-0.10146704,  0.07882977,  0.09163351,  0.09441251,  0.07753412,\n",
              "         0.06954932, -0.1089595 ,  0.14830384,  0.08069988, -0.11582332],\n",
              "       [-0.1048588 ,  0.16470249,  0.16034992,  0.02677147, -0.05977224,\n",
              "         0.03143558, -0.10798253, -0.06291292,  0.15155247, -0.16038546],\n",
              "       [-0.08283184,  0.08190826,  0.17488168, -0.09666149, -0.12133826,\n",
              "        -0.13671349, -0.14892991, -0.10550537,  0.1529548 , -0.11753695],\n",
              "       [-0.17771444,  0.15203543,  0.11908104, -0.00597525, -0.08530331,\n",
              "        -0.00195682, -0.10887204, -0.12502104,  0.17850208, -0.17237037],\n",
              "       [-0.07643113,  0.13288262,  0.09379996, -0.15420179, -0.12418543,\n",
              "        -0.07284543, -0.1433392 , -0.15466242,  0.15475105, -0.1034134 ],\n",
              "       [-0.08432766,  0.0886372 , -0.03676769, -0.16670632,  0.04502002,\n",
              "        -0.14223275, -0.04525565,  0.01830064,  0.16197851, -0.1755475 ],\n",
              "       [ 0.02189984,  0.10392687,  0.12402377, -0.14002964, -0.1187703 ,\n",
              "        -0.13574682,  0.02209115, -0.04967154, -0.04741718, -0.09303373],\n",
              "       [-0.12606281,  0.1384823 , -0.01897814, -0.15995625,  0.0294389 ,\n",
              "        -0.1528312 , -0.0816673 ,  0.0275573 ,  0.19275387, -0.16465254],\n",
              "       [ 0.07410727,  0.0618197 ,  0.07924134, -0.1948969 ,  0.06858395,\n",
              "        -0.19612339,  0.09468736,  0.15182754,  0.0064191 , -0.09559757]],\n",
              "      dtype=float32)"
            ]
          },
          "metadata": {},
          "execution_count": 30
        }
      ]
    },
    {
      "cell_type": "code",
      "source": [
        "from sklearn.decomposition import PCA\n",
        "pca = PCA(n_components=2)\n",
        "\n",
        "final_embeddings = pca.fit_transform(model.layers[0].get_weights()[0])"
      ],
      "metadata": {
        "id": "876ontXsItp-"
      },
      "execution_count": null,
      "outputs": []
    },
    {
      "cell_type": "code",
      "source": [
        "plt.figure(figsize=(12,5))\n",
        "for (word, index) in tokenizer.word_index.items():\n",
        "  x, y = final_embeddings[index]\n",
        "  plt.scatter(x, y, marker='o')\n",
        "  plt.annotate(word, xy=(x, y), xytext=(5, 2), textcoords='offset points', ha='right', va='bottom')\n",
        "  plt.title('Word Embeddings Vizualiser')\n",
        "\n",
        "plt.show()"
      ],
      "metadata": {
        "colab": {
          "base_uri": "https://localhost:8080/",
          "height": 468
        },
        "id": "AeBZYI47JJtT",
        "outputId": "2204cc76-bbb1-46e6-d53e-64701a505f46"
      },
      "execution_count": null,
      "outputs": [
        {
          "output_type": "display_data",
          "data": {
            "text/plain": [
              "<Figure size 1200x500 with 1 Axes>"
            ],
            "image/png": "[encoded data removed]"
          },
          "metadata": {}
        }
      ]
    }
  ]
}